{
 "metadata": {
  "language": "Julia",
  "name": "",
  "signature": "sha256:60b531629da1cbbd44cc6fef0eead494852ecf47da16a080398cf72c44ca06cc"
 },
 "nbformat": 3,
 "nbformat_minor": 0,
 "worksheets": [
  {
   "cells": [
    {
     "cell_type": "code",
     "collapsed": false,
     "input": [
      "using DataFrames, HDF5, JLD, Makeps, ACPowerFlow, ACSIMSEP, Optim\n",
      "\n",
      "# user input to the code\n",
      "verbose = true\n",
      "PartFactFlag = false\n",
      "PolarFlag = true\n",
      "ps = load(\"data/case6ww_ps_2.jld\")[\"ps\"]\n",
      "ps.shunt[[4:6],[:P,:Q]] = 210.\n",
      "ps.branch[23,:status] = false\n",
      "\n",
      "not_converged = ACPowerFlow.acpf!(ps, PartFactFlag = PartFactFlag)\n",
      "\n",
      "beta, beta_P, beta_Q, beta_S, beta_C = ACSIMSEP.find_sens_fact(ps, PartFactFlag, not_converged);"
     ],
     "language": "python",
     "metadata": {},
     "outputs": [
      {
       "output_type": "stream",
       "stream": "stdout",
       "text": [
        "Iter   Max(|g|)   |g|_2      max(Jac'*g)      alpha\n"
       ]
      },
      {
       "output_type": "stream",
       "stream": "stdout",
       "text": [
        " "
       ]
      },
      {
       "output_type": "stream",
       "stream": "stdout",
       "text": [
        "  1  0.5060672  0.9462937 12.6881918  1.0047814 \n",
        "   2  0.0154004  0.0267479  0.1729836  1.0018776 \n",
        "   3  0.0000094  0.0000122  0.0001057  0.9999999 \n",
        "Solution found.\n",
        "Iter   Max(|g|)   |g|_2      max(Jac'*g)      alpha"
       ]
      },
      {
       "output_type": "stream",
       "stream": "stdout",
       "text": [
        "\n",
        "   1  1.9060672  4.0005466 28.4673935  1.3142463 \n",
        "   2  0.4751459  0.7475127  8.5153861  1.3248368 \n",
        "   3  0.1278692  0.2006868  1.5223427  0.0123590 \n",
        "   4  0.1272233  0.1994478  1.4983327  0.0000388 \n",
        "   5  0.1272213  0.1994439  1.4972657  0.0000001 \n",
        " Did not find a solution to g(x) = 0.\n",
        "Power flow did not converge on island 2 of 2.\n",
        "Iter   Max(|g|)   |g|_2      max(Jac'*g)      alpha"
       ]
      }
     ]
    },
    {
     "cell_type": "code",
     "collapsed": false,
     "input": [],
     "language": "python",
     "metadata": {},
     "outputs": []
    }
   ],
   "metadata": {}
  }
 ]
}