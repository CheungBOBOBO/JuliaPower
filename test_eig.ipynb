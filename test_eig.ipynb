{
 "metadata": {
  "language": "Julia",
  "name": "",
  "signature": "sha256:1915e567c4e253b3ca467f2c520fe64147be4d1f13c65d92527b06a7bf5b9a8c"
 },
 "nbformat": 3,
 "nbformat_minor": 0,
 "worksheets": [
  {
   "cells": [
    {
     "cell_type": "code",
     "collapsed": false,
     "input": [
      ";cd /Users/prezaei/Dropbox/matlab/shared_matlab/PowerSystems/acsimsep\n"
     ],
     "language": "python",
     "metadata": {},
     "outputs": [
      {
       "output_type": "stream",
       "stream": "stdout",
       "text": [
        "/Users/prezaei/Dropbox/matlab/shared_matlab/PowerSystems/acsimsep\n"
       ]
      }
     ],
     "prompt_number": 1
    },
    {
     "cell_type": "code",
     "collapsed": false,
     "input": [
      "using MAT\n",
      "vars = matread(\"case118.mat\")"
     ],
     "language": "python",
     "metadata": {},
     "outputs": [
      {
       "metadata": {},
       "output_type": "pyout",
       "prompt_number": 56,
       "text": [
        "Dict{ASCIIString,Any} with 4 entries:\n",
        "  \"J1\" => \u2026\n",
        "  \"V2\" => [0.09717601799803248\u2026\n",
        "  \"J2\" => \u2026\n",
        "  \"V1\" => [-0.1000832977975424\u2026"
       ]
      }
     ],
     "prompt_number": 56
    },
    {
     "cell_type": "code",
     "collapsed": false,
     "input": [
      "J1 = vars[\"J1\"]\n",
      "V1 = vars[\"V1\"][:,1]\n",
      "J2 = vars[\"J2\"]\n",
      "V2 = vars[\"V2\"][:,1]\n",
      "@time lamb1, vec1 = eigs(J1; which=\"SM\");\n",
      "@time lamb2, vec2 = eigs(J2; which=\"SM\");"
     ],
     "language": "python",
     "metadata": {},
     "outputs": [
      {
       "output_type": "stream",
       "stream": "stderr",
       "text": [
        "WARNING: Use symbols instead of strings for specifying which eigenvalues to compute\n"
       ]
      },
      {
       "output_type": "stream",
       "stream": "stdout",
       "text": [
        "elapsed time: 0."
       ]
      },
      {
       "output_type": "stream",
       "stream": "stdout",
       "text": [
        "008834293 seconds (528220 bytes allocated)\n",
        "elapsed time: 0.01069578 seconds (527932 bytes allocated)\n"
       ]
      },
      {
       "output_type": "stream",
       "stream": "stderr",
       "text": [
        "WARNING: Use symbols instead of strings for specifying which eigenvalues to compute\n"
       ]
      }
     ],
     "prompt_number": 106
    },
    {
     "cell_type": "code",
     "collapsed": false,
     "input": [
      "vec2[:,1]"
     ],
     "language": "python",
     "metadata": {},
     "outputs": [
      {
       "metadata": {},
       "output_type": "pyout",
       "prompt_number": 111,
       "text": [
        "181-element Array{Complex{Float64},1}:\n",
        "    0.097176+0.0im\n",
        "   0.0971803+0.0im\n",
        "    0.097174+0.0im\n",
        "   0.0971651+0.0im\n",
        "   0.0971631+0.0im\n",
        "    0.097173+0.0im\n",
        "   0.0971767+0.0im\n",
        "    0.097143+0.0im\n",
        "   0.0971432+0.0im\n",
        "   0.0971433+0.0im\n",
        "   0.0971824+0.0im\n",
        "   0.0971827+0.0im\n",
        "   0.0972225+0.0im\n",
        "            \u22ee     \n",
        " -4.18292e-5+0.0im\n",
        "  6.45151e-6+0.0im\n",
        "  3.39224e-5+0.0im\n",
        " -1.14856e-6+0.0im\n",
        " -1.05588e-6+0.0im\n",
        "  9.31748e-8+0.0im\n",
        "  8.76524e-8+0.0im\n",
        "  8.54271e-8+0.0im\n",
        "  3.17995e-8+0.0im\n",
        "  4.11941e-8+0.0im\n",
        "  1.23961e-7+0.0im\n",
        "  0.00638245+0.0im"
       ]
      }
     ],
     "prompt_number": 111
    },
    {
     "cell_type": "code",
     "collapsed": false,
     "input": [
      "V2"
     ],
     "language": "python",
     "metadata": {},
     "outputs": [
      {
       "metadata": {},
       "output_type": "pyout",
       "prompt_number": 109,
       "text": [
        "181-element Array{Float64,1}:\n",
        "  0.097176  \n",
        "  0.0971803 \n",
        "  0.097174  \n",
        "  0.0971651 \n",
        "  0.0971631 \n",
        "  0.097173  \n",
        "  0.0971767 \n",
        "  0.097143  \n",
        "  0.0971432 \n",
        "  0.0971433 \n",
        "  0.0971824 \n",
        "  0.0971827 \n",
        "  0.0972225 \n",
        "  \u22ee         \n",
        " -4.18292e-5\n",
        "  6.45151e-6\n",
        "  3.39224e-5\n",
        " -1.14856e-6\n",
        " -1.05588e-6\n",
        "  9.31748e-8\n",
        "  8.76524e-8\n",
        "  8.54271e-8\n",
        "  3.17995e-8\n",
        "  4.11941e-8\n",
        "  1.23961e-7\n",
        "  0.00638245"
       ]
      }
     ],
     "prompt_number": 109
    },
    {
     "cell_type": "code",
     "collapsed": false,
     "input": [
      "maximum(abs(V2-vec2[:,1]))"
     ],
     "language": "python",
     "metadata": {},
     "outputs": [
      {
       "metadata": {},
       "output_type": "pyout",
       "prompt_number": 112,
       "text": [
        "2.1468937738688965e-14"
       ]
      }
     ],
     "prompt_number": 112
    },
    {
     "cell_type": "code",
     "collapsed": false,
     "input": [
      "using PyPlot\n",
      "y = abs(V1-vec[:,1])\n",
      "plot(y,'ro')"
     ],
     "language": "python",
     "metadata": {},
     "outputs": [
      {
       "ename": "LoadError",
       "evalue": "syntax: invalid character literal\nwhile loading In[90], in expression starting on line 3",
       "output_type": "pyerr",
       "traceback": [
        "syntax: invalid character literal\nwhile loading In[90], in expression starting on line 3",
        ""
       ]
      }
     ],
     "prompt_number": 90
    },
    {
     "cell_type": "code",
     "collapsed": false,
     "input": [
      "y"
     ],
     "language": "python",
     "metadata": {},
     "outputs": [
      {
       "metadata": {},
       "output_type": "pyout",
       "prompt_number": 91,
       "text": [
        "181-element Array{Float64,1}:\n",
        " 0.200167  \n",
        " 0.200165  \n",
        " 0.200159  \n",
        " 0.200133  \n",
        " 0.200129  \n",
        " 0.200149  \n",
        " 0.200153  \n",
        " 0.20009   \n",
        " 0.200098  \n",
        " 0.200102  \n",
        " 0.200154  \n",
        " 0.200155  \n",
        " 0.200187  \n",
        " \u22ee         \n",
        " 3.88801e-5\n",
        " 3.90812e-5\n",
        " 9.14961e-5\n",
        " 5.20126e-7\n",
        " 4.56056e-8\n",
        " 4.27597e-6\n",
        " 3.98578e-6\n",
        " 3.87321e-6\n",
        " 2.24038e-6\n",
        " 2.29589e-6\n",
        " 6.00568e-6\n",
        " 0.0121907 "
       ]
      }
     ],
     "prompt_number": 91
    },
    {
     "cell_type": "code",
     "collapsed": false,
     "input": [
      "V1[1]"
     ],
     "language": "python",
     "metadata": {},
     "outputs": [
      {
       "metadata": {},
       "output_type": "pyout",
       "prompt_number": 92,
       "text": [
        "-0.1000832977975424"
       ]
      }
     ],
     "prompt_number": 92
    },
    {
     "cell_type": "code",
     "collapsed": false,
     "input": [
      "vec[1,1]"
     ],
     "language": "python",
     "metadata": {},
     "outputs": [
      {
       "metadata": {},
       "output_type": "pyout",
       "prompt_number": 93,
       "text": [
        "0.10008329779754212 + 0.0im"
       ]
      }
     ],
     "prompt_number": 93
    },
    {
     "cell_type": "code",
     "collapsed": false,
     "input": [
      "V1-vec[:,1]"
     ],
     "language": "python",
     "metadata": {},
     "outputs": [
      {
       "metadata": {},
       "output_type": "pyout",
       "prompt_number": 94,
       "text": [
        "181-element Array{Complex{Float64},1}:\n",
        "   -0.200167-0.0im\n",
        "   -0.200165-0.0im\n",
        "   -0.200159-0.0im\n",
        "   -0.200133-0.0im\n",
        "   -0.200129-0.0im\n",
        "   -0.200149-0.0im\n",
        "   -0.200153-0.0im\n",
        "    -0.20009-0.0im\n",
        "   -0.200098-0.0im\n",
        "   -0.200102-0.0im\n",
        "   -0.200154-0.0im\n",
        "   -0.200155-0.0im\n",
        "   -0.200187-0.0im\n",
        "            \u22ee     \n",
        "  3.88801e-5-0.0im\n",
        " -3.90812e-5-0.0im\n",
        " -9.14961e-5-0.0im\n",
        " -5.20126e-7-0.0im\n",
        "  4.56056e-8-0.0im\n",
        " -4.27597e-6-0.0im\n",
        " -3.98578e-6-0.0im\n",
        " -3.87321e-6-0.0im\n",
        " -2.24038e-6-0.0im\n",
        " -2.29589e-6-0.0im\n",
        " -6.00568e-6-0.0im\n",
        "  -0.0121907-0.0im"
       ]
      }
     ],
     "prompt_number": 94
    }
   ],
   "metadata": {}
  }
 ]
}