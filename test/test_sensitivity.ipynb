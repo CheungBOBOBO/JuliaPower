{
 "metadata": {
  "language": "Julia",
  "name": "",
  "signature": "sha256:16dbeba958e23caa297f95e9bfbedad1cdc17913b5b32fac192043db6614c68c"
 },
 "nbformat": 3,
 "nbformat_minor": 0,
 "worksheets": [
  {
   "cells": [
    {
     "cell_type": "code",
     "collapsed": false,
     "input": [
      "using DataFrames, HDF5, JLD, Makeps, ACPowerFlow, ACSIMSEP, Optim\n",
      "\n",
      "# user input to the code\n",
      "verbose = true\n",
      "PartFactFlag = false\n",
      "PolarFlag = true\n",
      "# ps = load(\"data/case2383wp_ps.jld\")[\"ps\"]\n",
      "# ps = load(\"data/case6ww_ps.jld\")[\"ps\"]\n",
      "# ps = load(\"data/case2_ps.jld\")[\"ps\"]; \n",
      "ps = load(\"../data/case6ww_ps_2.jld\")[\"ps\"]\n",
      "ps.shunt[[4:6],[:P,:Q]] = 210.\n",
      "# ps.shunt[[1:3],[:P,:Q]] = 210.\n",
      "ps.branch[23,:status] = false\n",
      "\n",
      "LoadFactor = 1.\n",
      "ps.shunt[:,:P] = ps.shunt[:,:P] * LoadFactor\n",
      "ps.shunt[:,:Q] = ps.shunt[:,:Q] * LoadFactor\n",
      "\n",
      "not_converged = ACPowerFlow.acpf!(ps, PartFactFlag = PartFactFlag)\n",
      "\n",
      "beta, beta_P, beta_Q, beta_S, beta_C = ACSIMSEP.find_sens_fact(ps, PartFactFlag, not_converged);\n",
      "println(\"beta: $beta\")\n",
      "max_beta_P = maximum(beta_P)\n",
      "i_max = find(max_beta_P .== beta_P)\n",
      "println(\"max beta_P: bus $i_max: $max_beta_P\")\n",
      "max_beta_Q = maximum(beta_Q)\n",
      "i_max = find(max_beta_Q .== beta_Q)\n",
      "println(\"max beta_Q: bus $i_max: $max_beta_Q\")\n",
      "max_beta_C = maximum(beta_C)\n",
      "i_max = find(max_beta_C .== beta_C)\n",
      "println(\"max beta_C: bus $i_max: $max_beta_C\")\n",
      "max_beta_S = maximum(beta_S)\n",
      "i_max = find(max_beta_S .== beta_S)\n",
      "println(\"max beta_S: bus $i_max: $max_beta_S\")\n",
      "\n",
      "# br_outage_list = {[3,5]}\n",
      "\n",
      "# for (i,br_outages) in enumerate(br_outage_list)\n",
      "#     psnew = deepcopy(ps)\n",
      "#     psnew.branch[br_outages,:status] = false\n",
      "#     beta, beta_P, beta_Q, beta_S, beta_C = find_sens_fact(psnew, PartFactFlag, verbose = verbose);\n",
      "# end\n",
      "\n",
      "# max_beta_S = maximum(beta_S)\n",
      "# i_max = find(max_beta_S .== beta_S)\n"
     ],
     "language": "python",
     "metadata": {},
     "outputs": [
      {
       "output_type": "stream",
       "stream": "stdout",
       "text": [
        "Iter   Max(|g|)   |g|_2      max(Jac'*g)      alpha\n"
       ]
      },
      {
       "output_type": "stream",
       "stream": "stdout",
       "text": [
        " "
       ]
      },
      {
       "output_type": "stream",
       "stream": "stdout",
       "text": [
        "  1  0.5060672  0.9462937 12.6881918  1.0047814 \n",
        "   2  0.0154004  0.0267479  0.1729836  1.0018776 \n",
        "   3  0.0000094  0.0000122  0.0001057  0.9999999 \n",
        "Solution found.\n",
        "Iter   Max(|g|)   |g|_2      max(Jac'*g)      alpha"
       ]
      },
      {
       "output_type": "stream",
       "stream": "stdout",
       "text": [
        "\n",
        "   1  1.9060672  4.0005466 28.4673935  1.3142463 \n",
        "   2  0.4751459  0.7475127  8.5153861  1.3248368 \n",
        "   3  0.1278692  0.2006868  1.5223427  0.0123590 \n",
        "   4  0.1272233  0.1994478  1.4983327  0.0000388 \n",
        "   5  0.1272213  0.1994439  1.4972657  0.0000001 \n",
        " Did not find a solution to g(x) = 0.\n",
        "Power flow did not converge on island 2 of 2.\n",
        "Iter   Max(|g|)   |g|_2      max(Jac'*g)      alpha"
       ]
      }
     ]
    },
    {
     "cell_type": "code",
     "collapsed": false,
     "input": [
      "reload(\"ACPowerFlow\")\n",
      "reload(\"ACSIMSEP\")"
     ],
     "language": "python",
     "metadata": {},
     "outputs": []
    },
    {
     "cell_type": "code",
     "collapsed": false,
     "input": [
      "br_outage_list = {[1,2],[5,67,8]}\n",
      "for (i, v) in enumerate(br_outage_list)\n",
      "    println(\"event number $i outages: $v\")\n",
      "    println(typeof(v))\n",
      "end"
     ],
     "language": "python",
     "metadata": {},
     "outputs": [
      {
       "output_type": "stream",
       "stream": "stdout",
       "text": [
        "event number 1 outages: [1,2]\n"
       ]
      },
      {
       "output_type": "stream",
       "stream": "stdout",
       "text": [
        "Array{Int64,1}\n",
        "event number 2 outages: [5,67,8]\n",
        "Array{Int64,1}\n"
       ]
      }
     ],
     "prompt_number": 37
    }
   ],
   "metadata": {}
  }
 ]
}