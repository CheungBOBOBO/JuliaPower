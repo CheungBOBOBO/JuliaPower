{
 "metadata": {
  "language": "Julia",
  "name": "",
  "signature": "sha256:2cddbbbc3785795227010508da014675d0bf3a6f72fb3eff91bfe53b47eb5a16"
 },
 "nbformat": 3,
 "nbformat_minor": 0,
 "worksheets": [
  {
   "cells": [
    {
     "cell_type": "code",
     "collapsed": false,
     "input": [
      "using DataFrames, HDF5, JLD, Makeps, ACPowerFlow, Optim, ACSIMSEP\n",
      "\n",
      "# user input to the code\n",
      "verbose = true\n",
      "PartFactFlag = false\n",
      "PolarFlag = true\n",
      "# ps = load(\"data/case2383wp_ps.jld\")[\"ps\"]\n",
      "ps = load(\"data/case6ww_ps.jld\")[\"ps\"]\n",
      "# ps = load(\"data/case2_ps.jld\")[\"ps\"]; \n",
      "# ps = \n",
      "\n",
      "LoadFactor = 3.\n",
      "ps.shunt[:,:P] = ps.shunt[:,:P] * LoadFactor\n",
      "ps.shunt[:,:Q] = ps.shunt[:,:Q] * LoadFactor\n",
      "\n",
      "@time acpf!(ps, PartFactFlag = PartFactFlag)\n",
      "\n",
      "\n",
      "\n",
      "# br_outage_list = {[3,5]}\n",
      "\n",
      "# for (i,br_outages) in enumerate(br_outage_list)\n",
      "#     psnew = deepcopy(ps)\n",
      "#     psnew.branch[br_outages,:status] = false\n",
      "#     beta, beta_P, beta_Q, beta_S, beta_C = find_sens_fact(psnew, PartFactFlag, verbose = verbose);\n",
      "# end\n",
      "\n",
      "# max_beta_S = maximum(beta_S)\n",
      "# i_max = find(max_beta_S .== beta_S)\n"
     ],
     "language": "python",
     "metadata": {},
     "outputs": [
      {
       "output_type": "stream",
       "stream": "stdout",
       "text": [
        "Iter   Max(|g|)   |g|_2      max(Jac'*g)      alpha\n"
       ]
      },
      {
       "output_type": "stream",
       "stream": "stdout",
       "text": [
        "   1  1.9060672  4.0005466 28.4673935  1.3142463 \n",
        "   2  0.4751459  0.7475127  8.5153861  1.3248368 \n",
        "   3  0.1278692  0.2006868  1.5223427  0.0123590 \n",
        "   4  0.1272233  0.1994478  1.4983327  0.0000388 \n",
        "   5  0.1272213  0.1994439  1.4972657  0.0000001 \n",
        " Did not find a solution to g(x) = 0.\n",
        "Power flow did not converge.\n",
        "elapsed time: 0.021658495 seconds (1304632 bytes allocated)\n"
       ]
      }
     ],
     "prompt_number": 45
    },
    {
     "cell_type": "code",
     "collapsed": false,
     "input": [
      "psnew = deepcopy(ps)\n",
      "psnew.branch[br_outages,:status] = 0"
     ],
     "language": "python",
     "metadata": {},
     "outputs": [
      {
       "ename": "LoadError",
       "evalue": "ps not defined\nwhile loading In[1], in expression starting on line 1",
       "output_type": "pyerr",
       "traceback": [
        "ps not defined\nwhile loading In[1], in expression starting on line 1",
        ""
       ]
      }
     ],
     "prompt_number": 1
    },
    {
     "cell_type": "code",
     "collapsed": false,
     "input": [
      "br_outage_list = {[1,2],[5,67,8]}\n",
      "for (i, v) in enumerate(br_outage_list)\n",
      "    println(\"event number $i outages: $v\")\n",
      "    println(typeof(v))\n",
      "end"
     ],
     "language": "python",
     "metadata": {},
     "outputs": [
      {
       "output_type": "stream",
       "stream": "stdout",
       "text": [
        "event number 1 outages: [1,2]\n"
       ]
      },
      {
       "output_type": "stream",
       "stream": "stdout",
       "text": [
        "Array{Int64,1}\n",
        "event number 2 outages: [5,67,8]\n",
        "Array{Int64,1}\n"
       ]
      }
     ],
     "prompt_number": 37
    },
    {
     "cell_type": "code",
     "collapsed": false,
     "input": [
      "psnew.branch[[1,2],:status] = 0"
     ],
     "language": "python",
     "metadata": {},
     "outputs": [
      {
       "metadata": {},
       "output_type": "pyout",
       "prompt_number": 40,
       "text": [
        "0"
       ]
      }
     ],
     "prompt_number": 40
    },
    {
     "cell_type": "code",
     "collapsed": false,
     "input": [
      "find(psnew.branch[:,:status] .== 0)"
     ],
     "language": "python",
     "metadata": {},
     "outputs": [
      {
       "metadata": {},
       "output_type": "pyout",
       "prompt_number": 45,
       "text": [
        "2-element Array{Int64,1}:\n",
        " 1\n",
        " 2"
       ]
      }
     ],
     "prompt_number": 45
    },
    {
     "cell_type": "code",
     "collapsed": false,
     "input": [
      "beta, beta_P, beta_Q, beta_S, beta_C = find_sens_fact(psnew, PartFactFlag);\n",
      "println(\"beta: $beta\")\n",
      "max_beta_P = maximum(beta_P)\n",
      "i_max = find(max_beta_P .== beta_P)\n",
      "println(\"max beta_P: bus $i_max: $max_beta_P\")\n",
      "max_beta_Q = maximum(beta_Q)\n",
      "i_max = find(max_beta_Q .== beta_Q)\n",
      "println(\"max beta_Q: bus $i_max: $max_beta_Q\")\n",
      "max_beta_C = maximum(beta_C)\n",
      "i_max = find(max_beta_C .== beta_C)\n",
      "println(\"max beta_C: bus $i_max: $max_beta_C\")\n",
      "max_beta_S = maximum(beta_S)\n",
      "i_max = find(max_beta_S .== beta_S)\n",
      "println(\"max beta_S: bus $i_max: $max_beta_S\")"
     ],
     "language": "python",
     "metadata": {},
     "outputs": []
    }
   ],
   "metadata": {}
  }
 ]
}