{
 "metadata": {
  "language": "Julia",
  "name": "",
  "signature": "sha256:712d77a269460c84695f24f7ed1418af87f7ee3849d13252552b49c7201642ea"
 },
 "nbformat": 3,
 "nbformat_minor": 0,
 "worksheets": [
  {
   "cells": [
    {
     "cell_type": "code",
     "collapsed": false,
     "input": [
      ";cd test"
     ],
     "language": "python",
     "metadata": {},
     "outputs": [
      {
       "output_type": "stream",
       "stream": "stdout",
       "text": [
        "/Users/prezaei/Dropbox/JuliaPower/test\n"
       ]
      }
     ],
     "prompt_number": 4
    },
    {
     "cell_type": "code",
     "collapsed": false,
     "input": [
      "include(\"data/case6ww_ps_2.jl\")"
     ],
     "language": "python",
     "metadata": {},
     "outputs": [],
     "prompt_number": 3
    },
    {
     "cell_type": "code",
     "collapsed": false,
     "input": [
      "reload(\"ACPowerFlow\")"
     ],
     "language": "python",
     "metadata": {},
     "outputs": [
      {
       "output_type": "stream",
       "stream": "stderr",
       "text": [
        "Warning: replacing module ACPowerFlow\n",
        "Warning: Method definition real(SparseMatrixCSC"
       ]
      },
      {
       "output_type": "stream",
       "stream": "stderr",
       "text": [
        "{Tv,Ti<:Integer},) in module ACPowerFlow at /Users/prezaei/Dropbox/JuliaPower/ACPowerFlow/src/ACPowerFlow.jl:16 overwritten in module ACPowerFlow at /Users/prezaei/Dropbox/JuliaPower/ACPowerFlow/src/ACPowerFlow.jl:16.\n",
        "Warning: Method definition imag(SparseMatrixCSC{Tv,Ti<:Integer},) in module ACPowerFlow at /Users/prezaei/Dropbox/JuliaPower/ACPowerFlow/src/ACPowerFlow.jl:17 overwritten in module ACPowerFlow at /Users/prezaei/Dropbox/JuliaPower/ACPowerFlow/src/ACPowerFlow.jl:17.\n"
       ]
      }
     ],
     "prompt_number": 12
    },
    {
     "cell_type": "code",
     "collapsed": false,
     "input": [
      "alak = sin"
     ],
     "language": "python",
     "metadata": {},
     "outputs": [
      {
       "metadata": {},
       "output_type": "pyout",
       "prompt_number": 9,
       "text": [
        "sin (generic function with 17 methods)"
       ]
      }
     ],
     "prompt_number": 9
    },
    {
     "cell_type": "code",
     "collapsed": false,
     "input": [
      "methods(alak)"
     ],
     "language": "python",
     "metadata": {},
     "outputs": [
      {
       "html": [
        "17 methods for generic function <b>sin</b>:<ul><li> sin(a::<b>Complex{Float16}</b>) at <a href=\"https://github.com/JuliaLang/julia/tree/33920266908e950936ef3f8503810a2d47333741/base/float16.jl#L141\" target=\"_blank\">float16.jl:141</a><li> sin(z::<b>Complex{T<:Real}</b>) at <a href=\"https://github.com/JuliaLang/julia/tree/33920266908e950936ef3f8503810a2d47333741/base/complex.jl#L518\" target=\"_blank\">complex.jl:518</a><li> sin(x::<b>Float64</b>) at <a href=\"https://github.com/JuliaLang/julia/tree/33920266908e950936ef3f8503810a2d47333741/base/math.jl#L122\" target=\"_blank\">math.jl:122</a><li> sin(x::<b>Float32</b>) at <a href=\"https://github.com/JuliaLang/julia/tree/33920266908e950936ef3f8503810a2d47333741/base/math.jl#L123\" target=\"_blank\">math.jl:123</a><li> sin(a::<b>Float16</b>) at <a href=\"https://github.com/JuliaLang/julia/tree/33920266908e950936ef3f8503810a2d47333741/base/float16.jl#L140\" target=\"_blank\">float16.jl:140</a><li> sin(x::<b>BigFloat</b>) at <a href=\"https://github.com/JuliaLang/julia/tree/33920266908e950936ef3f8503810a2d47333741/base/mpfr.jl#L488\" target=\"_blank\">mpfr.jl:488</a><li> sin(x::<b>Real</b>) at <a href=\"https://github.com/JuliaLang/julia/tree/33920266908e950936ef3f8503810a2d47333741/base/math.jl#L124\" target=\"_blank\">math.jl:124</a><li> sin<i>{Tv,Ti}</i>(A::<b>SparseMatrixCSC{Tv,Ti}</b>) at <a href=\"https://github.com/JuliaLang/julia/tree/33920266908e950936ef3f8503810a2d47333741/base/sparse/sparsematrix.jl#L447\" target=\"_blank\">sparse/sparsematrix.jl:447</a><li> sin<i>{T<:FloatingPoint}</i>(d::<b>DataArray{T<:FloatingPoint,N}</b>) at <a href=\"https://github.com/JuliaStats/DataArrays.jl/tree/88094cfca36cc6ac2fb71863175dca1900950419/src/operators.jl#L256\" target=\"_blank\">/Users/prezaei/.julia/v0.3/DataArrays/src/operators.jl:256</a><li> sin<i>{T<:Real}</i>(d::<b>DataArray{T<:Real,N}</b>) at <a href=\"https://github.com/JuliaStats/DataArrays.jl/tree/88094cfca36cc6ac2fb71863175dca1900950419/src/operators.jl#L256\" target=\"_blank\">/Users/prezaei/.julia/v0.3/DataArrays/src/operators.jl:256</a><li> sin<i>{T<:FloatingPoint}</i>(adv::<b>AbstractDataArray{T<:FloatingPoint,N}</b>) at <a href=\"https://github.com/JuliaStats/DataArrays.jl/tree/88094cfca36cc6ac2fb71863175dca1900950419/src/operators.jl#L266\" target=\"_blank\">/Users/prezaei/.julia/v0.3/DataArrays/src/operators.jl:266</a><li> sin<i>{T<:Real}</i>(adv::<b>AbstractDataArray{T<:Real,N}</b>) at <a href=\"https://github.com/JuliaStats/DataArrays.jl/tree/88094cfca36cc6ac2fb71863175dca1900950419/src/operators.jl#L266\" target=\"_blank\">/Users/prezaei/.julia/v0.3/DataArrays/src/operators.jl:266</a><li> sin<i>{T<:Number}</i>(::<b>AbstractArray{T<:Number,1}</b>) at <a href=\"https://github.com/JuliaLang/julia/tree/33920266908e950936ef3f8503810a2d47333741/base/operators.jl#L359\" target=\"_blank\">operators.jl:359</a><li> sin<i>{T<:Number}</i>(::<b>AbstractArray{T<:Number,2}</b>) at <a href=\"https://github.com/JuliaLang/julia/tree/33920266908e950936ef3f8503810a2d47333741/base/operators.jl#L360\" target=\"_blank\">operators.jl:360</a><li> sin<i>{T<:Number}</i>(::<b>AbstractArray{T<:Number,N}</b>) at <a href=\"https://github.com/JuliaLang/julia/tree/33920266908e950936ef3f8503810a2d47333741/base/operators.jl#L362\" target=\"_blank\">operators.jl:362</a><li> sin(::<b>NAtype</b>) at <a href=\"https://github.com/JuliaStats/DataArrays.jl/tree/88094cfca36cc6ac2fb71863175dca1900950419/src/operators.jl#L481\" target=\"_blank\">/Users/prezaei/.julia/v0.3/DataArrays/src/operators.jl:481</a><li> sin(z::<b>Dual{T<:Real}</b>) at <a href=\"https://github.com/JuliaDiff/DualNumbers.jl/tree/db11ab85652685c0ea25f4f08f7de96ffcd085e6/src/dual.jl#L170\" target=\"_blank\">/Users/prezaei/.julia/v0.3/DualNumbers/src/dual.jl:170</a></ul>"
       ],
       "metadata": {},
       "output_type": "pyout",
       "prompt_number": 10,
       "text": [
        "# 17 methods for generic function \"sin\":\n",
        "sin(a::Complex{Float16}) at float16.jl:141\n",
        "sin(z::Complex{T<:Real}) at complex.jl:518\n",
        "sin(x::Float64) at math.jl:122\n",
        "sin(x::Float32) at math.jl:123\n",
        "sin(a::Float16) at float16.jl:140\n",
        "sin(x::BigFloat) at mpfr.jl:488\n",
        "sin(x::Real) at math.jl:124\n",
        "sin{Tv,Ti}(A::SparseMatrixCSC{Tv,Ti}) at sparse/sparsematrix.jl:447\n",
        "sin{T<:FloatingPoint}(d::DataArray{T<:FloatingPoint,N}) at /Users/prezaei/.julia/v0.3/DataArrays/src/operators.jl:256\n",
        "sin{T<:Real}(d::DataArray{T<:Real,N}) at /Users/prezaei/.julia/v0.3/DataArrays/src/operators.jl:256\n",
        "sin{T<:FloatingPoint}(adv::AbstractDataArray{T<:FloatingPoint,N}) at /Users/prezaei/.julia/v0.3/DataArrays/src/operators.jl:266\n",
        "sin{T<:Real}(adv::AbstractDataArray{T<:Real,N}) at /Users/prezaei/.julia/v0.3/DataArrays/src/operators.jl:266\n",
        "sin{T<:Number}(::AbstractArray{T<:Number,1}) at operators.jl:359\n",
        "sin{T<:Number}(::AbstractArray{T<:Number,2}) at operators.jl:360\n",
        "sin{T<:Number}(::AbstractArray{T<:Number,N}) at operators.jl:362\n",
        "sin(::NAtype) at /Users/prezaei/.julia/v0.3/DataArrays/src/operators.jl:481\n",
        "sin(z::Dual{T<:Real}) at /Users/prezaei/.julia/v0.3/DualNumbers/src/dual.jl:170"
       ]
      }
     ],
     "prompt_number": 10
    },
    {
     "cell_type": "code",
     "collapsed": false,
     "input": [
      "using DataFrames, HDF5, JLD, Makeps, ACPowerFlow, Optim, ACSIMSEP\n",
      "\n",
      "# user input to the code\n",
      "verbose = true\n",
      "PartFactFlag = false\n",
      "PolarFlag = true\n",
      "# ps = load(\"data/case2383wp_ps.jld\")[\"ps\"]\n",
      "# ps = load(\"../data/case6ww_ps.jld\")[\"ps\"]\n",
      "# ps = load(\"../data/case2_ps.jld\")[\"ps\"]; \n",
      "ps = load(\"../data/case6ww_ps_2.jld\")[\"ps\"]\n",
      "ps.shunt[[4:6],[:P,:Q]] = 210.\n",
      "# ps.shunt[[1:3],[:P,:Q]] = 210.\n",
      "ps.branch[23,:status] = false\n",
      "\n",
      "LoadFactor = 1.\n",
      "ps.shunt[:,:P] = ps.shunt[:,:P] * LoadFactor\n",
      "ps.shunt[:,:Q] = ps.shunt[:,:Q] * LoadFactor\n",
      "\n",
      "ACPowerFlow.acpf!(ps, PartFactFlag = PartFactFlag) "
     ],
     "language": "python",
     "metadata": {},
     "outputs": [
      {
       "output_type": "stream",
       "stream": "stdout",
       "text": [
        "Iter   Max(|g|)   |g|_2      max(Jac'*g)      alpha\n"
       ]
      },
      {
       "output_type": "stream",
       "stream": "stdout",
       "text": [
        "\n",
        "at "
       ]
      },
      {
       "output_type": "stream",
       "stream": "stdout",
       "text": [
        "/Users/prezaei/Dropbox/JuliaPower/ACPowerFlow/src/nrsolve.jl:35\n",
        "\n",
        "      34           g2 = sqrt(sum(g.^2))\n",
        " -->  35           @bp\n",
        "      36   \n",
        "\n",
        "debug:35> "
       ]
      },
      {
       "name": "stdout",
       "output_type": "stream",
       "stream": "stdout",
       "text": [
        "STDIN> det(Jac)\n"
       ]
      },
      {
       "output_type": "stream",
       "stream": "stdout",
       "text": [
        "1."
       ]
      },
      {
       "output_type": "stream",
       "stream": "stdout",
       "text": [
        "5752209568095036e9\n",
        "\n",
        "debug:35> "
       ]
      },
      {
       "name": "stdout",
       "output_type": "stream",
       "stream": "stdout",
       "text": [
        "STDIN> q\n"
       ]
      },
      {
       "ename": "LoadError",
       "evalue": "interrupted\nwhile loading In[13], in expression starting on line 19",
       "output_type": "pyerr",
       "traceback": [
        "interrupted\nwhile loading In[13], in expression starting on line 19",
        "",
        " in trap at /Users/prezaei/.julia/v0.3/Debug/src/UI.jl:68",
        " in __nrsolve#270__ at no file:35",
        " in acpf! at /Users/prezaei/Dropbox/JuliaPower/ACPowerFlow/src/acpf.jl:34"
       ]
      }
     ],
     "prompt_number": 13
    },
    {
     "cell_type": "code",
     "collapsed": false,
     "input": [
      "ps.bus"
     ],
     "language": "python",
     "metadata": {},
     "outputs": [
      {
       "html": [
        "<table class=\"data-frame\"><tr><th></th><th>ID</th><th>type</th><th>Pd</th><th>Qd</th><th>Gs</th><th>Bs</th><th>area</th><th>Vmag</th><th>Vang</th><th>basekV</th><th>zone</th><th>Vmax</th><th>Vmin</th><th>lamP</th><th>lamQ</th><th>muVx</th><th>muVn</th><th>locX</th><th>locY</th></tr><tr><th>1</th><td>1</td><td>3.0</td><td>0.0</td><td>0.0</td><td>0.0</td><td>0.0</td><td>1.0</td><td>1.05</td><td>0.0</td><td>230.0</td><td>1.0</td><td>1.05</td><td>1.05</td><td>0.0</td><td>0.0</td><td>0.0</td><td>0.0</td><td>1.5</td><td>1.0</td></tr><tr><th>2</th><td>2</td><td>2.0</td><td>0.0</td><td>0.0</td><td>0.0</td><td>0.0</td><td>1.0</td><td>1.05</td><td>-0.06407378348652876</td><td>230.0</td><td>1.0</td><td>1.05</td><td>1.05</td><td>0.0</td><td>0.0</td><td>0.0</td><td>0.0</td><td>2.0</td><td>1.0</td></tr><tr><th>3</th><td>3</td><td>2.0</td><td>0.0</td><td>0.0</td><td>0.0</td><td>0.0</td><td>1.0</td><td>1.07</td><td>-0.0745825871344223</td><td>230.0</td><td>1.0</td><td>1.07</td><td>1.07</td><td>0.0</td><td>0.0</td><td>0.0</td><td>0.0</td><td>2.5</td><td>1.0</td></tr><tr><th>4</th><td>4</td><td>1.0</td><td>0.0</td><td>0.0</td><td>0.0</td><td>0.0</td><td>1.0</td><td>0.9893728693486216</td><td>-0.07323090241990156</td><td>230.0</td><td>1.0</td><td>1.05</td><td>0.95</td><td>0.0</td><td>0.0</td><td>0.0</td><td>0.0</td><td>1.0</td><td>2.0</td></tr><tr><th>5</th><td>5</td><td>1.0</td><td>0.0</td><td>0.0</td><td>0.0</td><td>0.0</td><td>1.0</td><td>0.9854448350522254</td><td>-0.09209034811199586</td><td>230.0</td><td>1.0</td><td>1.05</td><td>0.95</td><td>0.0</td><td>0.0</td><td>0.0</td><td>0.0</td><td>2.0</td><td>2.0</td></tr><tr><th>6</th><td>6</td><td>1.0</td><td>0.0</td><td>0.0</td><td>0.0</td><td>0.0</td><td>1.0</td><td>1.0044252703572052</td><td>-0.10380265472313888</td><td>230.0</td><td>1.0</td><td>1.05</td><td>0.95</td><td>0.0</td><td>0.0</td><td>0.0</td><td>0.0</td><td>3.0</td><td>2.0</td></tr><tr><th>7</th><td>7</td><td>2.0</td><td>0.0</td><td>0.0</td><td>0.0</td><td>0.0</td><td>1.0</td><td>0.0</td><td>0.0</td><td>230.0</td><td>1.0</td><td>1.05</td><td>1.05</td><td>0.0</td><td>0.0</td><td>0.0</td><td>0.0</td><td>1.5</td><td>1.0</td></tr><tr><th>8</th><td>8</td><td>2.0</td><td>0.0</td><td>0.0</td><td>0.0</td><td>0.0</td><td>1.0</td><td>0.0</td><td>0.0</td><td>230.0</td><td>1.0</td><td>1.05</td><td>1.05</td><td>0.0</td><td>0.0</td><td>0.0</td><td>0.0</td><td>2.0</td><td>1.0</td></tr><tr><th>9</th><td>9</td><td>2.0</td><td>0.0</td><td>0.0</td><td>0.0</td><td>0.0</td><td>1.0</td><td>0.0</td><td>0.0</td><td>230.0</td><td>1.0</td><td>1.07</td><td>1.07</td><td>0.0</td><td>0.0</td><td>0.0</td><td>0.0</td><td>2.5</td><td>1.0</td></tr><tr><th>10</th><td>10</td><td>1.0</td><td>0.0</td><td>0.0</td><td>0.0</td><td>0.0</td><td>1.0</td><td>0.0</td><td>0.0</td><td>230.0</td><td>1.0</td><td>1.05</td><td>0.95</td><td>0.0</td><td>0.0</td><td>0.0</td><td>0.0</td><td>1.0</td><td>2.0</td></tr><tr><th>11</th><td>11</td><td>1.0</td><td>0.0</td><td>0.0</td><td>0.0</td><td>0.0</td><td>1.0</td><td>0.0</td><td>0.0</td><td>230.0</td><td>1.0</td><td>1.05</td><td>0.95</td><td>0.0</td><td>0.0</td><td>0.0</td><td>0.0</td><td>2.0</td><td>2.0</td></tr><tr><th>12</th><td>12</td><td>1.0</td><td>0.0</td><td>0.0</td><td>0.0</td><td>0.0</td><td>1.0</td><td>0.0</td><td>0.0</td><td>230.0</td><td>1.0</td><td>1.05</td><td>0.95</td><td>0.0</td><td>0.0</td><td>0.0</td><td>0.0</td><td>3.0</td><td>2.0</td></tr></table>"
       ],
       "metadata": {},
       "output_type": "pyout",
       "prompt_number": 39,
       "text": [
        "12x19 DataFrame\n",
        "| Row | ID | type | Pd  | Qd  | Gs  | Bs  | area | Vmag     | Vang       |\n",
        "|-----|----|------|-----|-----|-----|-----|------|----------|------------|\n",
        "| 1   | 1  | 3.0  | 0.0 | 0.0 | 0.0 | 0.0 | 1.0  | 1.05     | 0.0        |\n",
        "| 2   | 2  | 2.0  | 0.0 | 0.0 | 0.0 | 0.0 | 1.0  | 1.05     | -0.0640738 |\n",
        "| 3   | 3  | 2.0  | 0.0 | 0.0 | 0.0 | 0.0 | 1.0  | 1.07     | -0.0745826 |\n",
        "| 4   | 4  | 1.0  | 0.0 | 0.0 | 0.0 | 0.0 | 1.0  | 0.989373 | -0.0732309 |\n",
        "| 5   | 5  | 1.0  | 0.0 | 0.0 | 0.0 | 0.0 | 1.0  | 0.985445 | -0.0920903 |\n",
        "| 6   | 6  | 1.0  | 0.0 | 0.0 | 0.0 | 0.0 | 1.0  | 1.00443  | -0.103803  |\n",
        "| 7   | 7  | 2.0  | 0.0 | 0.0 | 0.0 | 0.0 | 1.0  | 0.0      | 0.0        |\n",
        "| 8   | 8  | 2.0  | 0.0 | 0.0 | 0.0 | 0.0 | 1.0  | 0.0      | 0.0        |\n",
        "| 9   | 9  | 2.0  | 0.0 | 0.0 | 0.0 | 0.0 | 1.0  | 0.0      | 0.0        |\n",
        "| 10  | 10 | 1.0  | 0.0 | 0.0 | 0.0 | 0.0 | 1.0  | 0.0      | 0.0        |\n",
        "| 11  | 11 | 1.0  | 0.0 | 0.0 | 0.0 | 0.0 | 1.0  | 0.0      | 0.0        |\n",
        "| 12  | 12 | 1.0  | 0.0 | 0.0 | 0.0 | 0.0 | 1.0  | 0.0      | 0.0        |\n",
        "\n",
        "| Row | basekV | zone | Vmax | Vmin | lamP | lamQ | muVx | muVn | locX | locY |\n",
        "|-----|--------|------|------|------|------|------|------|------|------|------|\n",
        "| 1   | 230.0  | 1.0  | 1.05 | 1.05 | 0.0  | 0.0  | 0.0  | 0.0  | 1.5  | 1.0  |\n",
        "| 2   | 230.0  | 1.0  | 1.05 | 1.05 | 0.0  | 0.0  | 0.0  | 0.0  | 2.0  | 1.0  |\n",
        "| 3   | 230.0  | 1.0  | 1.07 | 1.07 | 0.0  | 0.0  | 0.0  | 0.0  | 2.5  | 1.0  |\n",
        "| 4   | 230.0  | 1.0  | 1.05 | 0.95 | 0.0  | 0.0  | 0.0  | 0.0  | 1.0  | 2.0  |\n",
        "| 5   | 230.0  | 1.0  | 1.05 | 0.95 | 0.0  | 0.0  | 0.0  | 0.0  | 2.0  | 2.0  |\n",
        "| 6   | 230.0  | 1.0  | 1.05 | 0.95 | 0.0  | 0.0  | 0.0  | 0.0  | 3.0  | 2.0  |\n",
        "| 7   | 230.0  | 1.0  | 1.05 | 1.05 | 0.0  | 0.0  | 0.0  | 0.0  | 1.5  | 1.0  |\n",
        "| 8   | 230.0  | 1.0  | 1.05 | 1.05 | 0.0  | 0.0  | 0.0  | 0.0  | 2.0  | 1.0  |\n",
        "| 9   | 230.0  | 1.0  | 1.07 | 1.07 | 0.0  | 0.0  | 0.0  | 0.0  | 2.5  | 1.0  |\n",
        "| 10  | 230.0  | 1.0  | 1.05 | 0.95 | 0.0  | 0.0  | 0.0  | 0.0  | 1.0  | 2.0  |\n",
        "| 11  | 230.0  | 1.0  | 1.05 | 0.95 | 0.0  | 0.0  | 0.0  | 0.0  | 2.0  | 2.0  |\n",
        "| 12  | 230.0  | 1.0  | 1.05 | 0.95 | 0.0  | 0.0  | 0.0  | 0.0  | 3.0  | 2.0  |"
       ]
      }
     ],
     "prompt_number": 39
    },
    {
     "cell_type": "code",
     "collapsed": false,
     "input": [
      "ps.gen"
     ],
     "language": "python",
     "metadata": {},
     "outputs": [
      {
       "html": [
        "<table class=\"data-frame\"><tr><th></th><th>bus</th><th>P</th><th>Q</th><th>Qmax</th><th>Qmin</th><th>Vsp</th><th>mBase</th><th>status</th><th>Pmax</th><th>Pmin</th><th>muPx</th><th>muPn</th><th>muQx</th><th>muQn</th><th>type</th><th>cost</th></tr><tr><th>1</th><td>1</td><td>107.87549691563802</td><td>15.956206299830427</td><td>100.0</td><td>-100.0</td><td>1.05</td><td>100.0</td><td>1.0</td><td>200.0</td><td>50.0</td><td>0.0</td><td>0.0</td><td>0.0</td><td>0.0</td><td>3.0</td><td>11.669</td></tr><tr><th>2</th><td>2</td><td>50.0000000002266</td><td>74.35647509772897</td><td>100.0</td><td>-100.0</td><td>1.05</td><td>100.0</td><td>1.0</td><td>150.0</td><td>37.5</td><td>0.0</td><td>0.0</td><td>0.0</td><td>0.0</td><td>2.0</td><td>10.333</td></tr><tr><th>3</th><td>3</td><td>60.000000000125596</td><td>89.62677449890072</td><td>60.0</td><td>-100.0</td><td>1.07</td><td>100.0</td><td>1.0</td><td>180.0</td><td>45.0</td><td>0.0</td><td>0.0</td><td>0.0</td><td>0.0</td><td>2.0</td><td>10.833</td></tr><tr><th>4</th><td>7</td><td>0.0</td><td>0.0</td><td>100.0</td><td>-100.0</td><td>1.05</td><td>100.0</td><td>1.0</td><td>200.0</td><td>50.0</td><td>0.0</td><td>0.0</td><td>0.0</td><td>0.0</td><td>3.0</td><td>11.669</td></tr><tr><th>5</th><td>8</td><td>0.0</td><td>0.0</td><td>100.0</td><td>-100.0</td><td>1.05</td><td>100.0</td><td>1.0</td><td>150.0</td><td>37.5</td><td>0.0</td><td>0.0</td><td>0.0</td><td>0.0</td><td>2.0</td><td>10.333</td></tr><tr><th>6</th><td>9</td><td>0.0</td><td>0.0</td><td>60.0</td><td>-100.0</td><td>1.07</td><td>100.0</td><td>1.0</td><td>180.0</td><td>45.0</td><td>0.0</td><td>0.0</td><td>0.0</td><td>0.0</td><td>2.0</td><td>10.833</td></tr></table>"
       ],
       "metadata": {},
       "output_type": "pyout",
       "prompt_number": 40,
       "text": [
        "6x16 DataFrame\n",
        "| Row | bus | P       | Q       | Qmax  | Qmin   | Vsp  | mBase | status |\n",
        "|-----|-----|---------|---------|-------|--------|------|-------|--------|\n",
        "| 1   | 1   | 107.875 | 15.9562 | 100.0 | -100.0 | 1.05 | 100.0 | 1.0    |\n",
        "| 2   | 2   | 50.0    | 74.3565 | 100.0 | -100.0 | 1.05 | 100.0 | 1.0    |\n",
        "| 3   | 3   | 60.0    | 89.6268 | 60.0  | -100.0 | 1.07 | 100.0 | 1.0    |\n",
        "| 4   | 7   | 0.0     | 0.0     | 100.0 | -100.0 | 1.05 | 100.0 | 1.0    |\n",
        "| 5   | 8   | 0.0     | 0.0     | 100.0 | -100.0 | 1.05 | 100.0 | 1.0    |\n",
        "| 6   | 9   | 0.0     | 0.0     | 60.0  | -100.0 | 1.07 | 100.0 | 1.0    |\n",
        "\n",
        "| Row | Pmax  | Pmin | muPx | muPn | muQx | muQn | type | cost   |\n",
        "|-----|-------|------|------|------|------|------|------|--------|\n",
        "| 1   | 200.0 | 50.0 | 0.0  | 0.0  | 0.0  | 0.0  | 3.0  | 11.669 |\n",
        "| 2   | 150.0 | 37.5 | 0.0  | 0.0  | 0.0  | 0.0  | 2.0  | 10.333 |\n",
        "| 3   | 180.0 | 45.0 | 0.0  | 0.0  | 0.0  | 0.0  | 2.0  | 10.833 |\n",
        "| 4   | 200.0 | 50.0 | 0.0  | 0.0  | 0.0  | 0.0  | 3.0  | 11.669 |\n",
        "| 5   | 150.0 | 37.5 | 0.0  | 0.0  | 0.0  | 0.0  | 2.0  | 10.333 |\n",
        "| 6   | 180.0 | 45.0 | 0.0  | 0.0  | 0.0  | 0.0  | 2.0  | 10.833 |"
       ]
      }
     ],
     "prompt_number": 40
    },
    {
     "cell_type": "code",
     "collapsed": false,
     "input": [
      "ps.branch"
     ],
     "language": "python",
     "metadata": {},
     "outputs": [
      {
       "html": [
        "<table class=\"data-frame\"><tr><th></th><th>from</th><th>to</th><th>R</th><th>X</th><th>B</th><th>rateA</th><th>rateB</th><th>rateC</th><th>tap</th><th>shift</th><th>status</th><th>Pf</th><th>Qf</th><th>Pt</th><th>Qt</th><th>muF</th><th>muT</th><th>ImagF</th><th>ImagT</th><th>switchable</th><th>fail_rate</th><th>type</th><th>contg_st</th></tr><tr><th>1</th><td>1</td><td>2</td><td>0.1</td><td>0.2</td><td>0.04</td><td>40.0</td><td>40.0</td><td>40.0</td><td>1.0</td><td>0.0</td><td>true</td><td>28.68967918746788</td><td>-15.418662090643664</td><td>-27.784737184995734</td><td>12.818546095587976</td><td>0.0</td><td>0.0</td><td>0.3101945600481609</td><td>0.29142028379812457</td><td>0.0</td><td>0.0</td><td>0.0</td><td>0.0</td></tr><tr><th>2</th><td>1</td><td>4</td><td>0.05</td><td>0.2</td><td>0.04</td><td>60.0</td><td>60.0</td><td>60.0</td><td>1.0</td><td>0.0</td><td>true</td><td>43.58494942844689</td><td>20.12014966750796</td><td>-42.497393816493656</td><td>-19.93264456890108</td><td>0.0</td><td>0.0</td><td>0.45718930709679295</td><td>0.4744392866830986</td><td>0.0</td><td>0.0</td><td>0.0</td><td>0.0</td></tr><tr><th>3</th><td>1</td><td>5</td><td>0.08</td><td>0.3</td><td>0.06</td><td>40.0</td><td>40.0</td><td>40.0</td><td>1.0</td><td>0.0</td><td>true</td><td>35.60086829972325</td><td>11.254718722966182</td><td>-34.52732269404179</td><td>-13.449727270454023</td><td>0.0</td><td>0.0</td><td>0.35559544355404976</td><td>0.3760173476075476</td><td>0.0</td><td>0.0</td><td>0.0</td><td>0.0</td></tr><tr><th>4</th><td>2</td><td>3</td><td>0.05</td><td>0.25</td><td>0.06</td><td>40.0</td><td>40.0</td><td>40.0</td><td>1.0</td><td>0.0</td><td>true</td><td>2.930319554440286</td><td>-12.268749405066632</td><td>-2.8900062829704787</td><td>5.728115762415653</td><td>0.0</td><td>0.0</td><td>0.12013181900313918</td><td>0.05996144458327816</td><td>0.0</td><td>0.0</td><td>0.0</td><td>0.0</td></tr><tr><th>5</th><td>2</td><td>4</td><td>0.05</td><td>0.1</td><td>0.02</td><td>60.0</td><td>60.0</td><td>60.0</td><td>1.0</td><td>0.0</td><td>true</td><td>33.09094658383731</td><td>46.05406848658985</td><td>-31.585843319780682</td><td>-45.125220633079564</td><td>0.0</td><td>0.0</td><td>0.540092204270718</td><td>0.5567295672680539</td><td>0.0</td><td>0.0</td><td>0.0</td><td>0.0</td></tr><tr><th>6</th><td>2</td><td>5</td><td>0.1</td><td>0.3</td><td>0.04</td><td>30.0</td><td>30.0</td><td>30.0</td><td>1.0</td><td>0.0</td><td>true</td><td>15.51452625587755</td><td>15.353153175036585</td><td>-15.01657680656928</td><td>-18.006507872974048</td><td>0.0</td><td>0.0</td><td>0.2078766068147443</td><td>0.23792668507513764</td><td>0.0</td><td>0.0</td><td>0.0</td><td>0.0</td></tr><tr><th>7</th><td>2</td><td>6</td><td>0.07</td><td>0.2</td><td>0.05</td><td>90.0</td><td>90.0</td><td>90.0</td><td>1.0</td><td>0.0</td><td>true</td><td>26.248944791067107</td><td>12.399456745581194</td><td>-25.665641584970246</td><td>-16.01130146606351</td><td>0.0</td><td>0.0</td><td>0.27647827865786684</td><td>0.30117127410844996</td><td>0.0</td><td>0.0</td><td>0.0</td><td>0.0</td></tr><tr><th>8</th><td>3</td><td>5</td><td>0.12</td><td>0.26</td><td>0.05</td><td>70.0</td><td>70.0</td><td>70.0</td><td>1.0</td><td>0.0</td><td>true</td><td>19.116823909487966</td><td>23.174456112664586</td><td>-18.023247504648793</td><td>-26.09504437617412</td><td>0.0</td><td>0.0</td><td>0.2807642721458668</td><td>0.3218259635364828</td><td>0.0</td><td>0.0</td><td>0.0</td><td>0.0</td></tr><tr><th>9</th><td>3</td><td>6</td><td>0.02</td><td>0.1</td><td>0.02</td><td>80.0</td><td>80.0</td><td>80.0</td><td>1.0</td><td>0.0</td><td>true</td><td>43.773182373608044</td><td>60.72420262382019</td><td>-42.76979738721798</td><td>-57.861047815602106</td><td>0.0</td><td>0.0</td><td>0.6995949990317755</td><td>0.7163545321597278</td><td>0.0</td><td>0.0</td><td>0.0</td><td>0.0</td></tr><tr><th>10</th><td>4</td><td>5</td><td>0.2</td><td>0.4</td><td>0.08</td><td>20.0</td><td>20.0</td><td>20.0</td><td>1.0</td><td>0.0</td><td>true</td><td>4.0832371362880595</td><td>-4.942134797899984</td><td>-4.047017528564535</td><td>-2.785266776789868</td><td>0.0</td><td>0.0</td><td>0.06479594389413164</td><td>0.04985410084354745</td><td>0.0</td><td>0.0</td><td>0.0</td><td>0.0</td></tr><tr><th>11</th><td>5</td><td>6</td><td>0.1</td><td>0.3</td><td>0.06</td><td>40.0</td><td>40.0</td><td>40.0</td><td>1.0</td><td>0.0</td><td>true</td><td>1.6141645340893462</td><td>-9.663453703215161</td><td>-1.5645610278208564</td><td>3.8723492820308523</td><td>0.0</td><td>0.0</td><td>0.09942047816289923</td><td>0.04158074008806207</td><td>0.0</td><td>0.0</td><td>0.0</td><td>0.0</td></tr><tr><th>12</th><td>7</td><td>8</td><td>0.1</td><td>0.2</td><td>0.04</td><td>40.0</td><td>40.0</td><td>40.0</td><td>1.0</td><td>0.0</td><td>true</td><td>0.0</td><td>0.0</td><td>0.0</td><td>0.0</td><td>0.0</td><td>0.0</td><td>0.0</td><td>0.0</td><td>0.0</td><td>0.0</td><td>0.0</td><td>0.0</td></tr><tr><th>13</th><td>7</td><td>10</td><td>0.05</td><td>0.2</td><td>0.04</td><td>60.0</td><td>60.0</td><td>60.0</td><td>1.0</td><td>0.0</td><td>true</td><td>0.0</td><td>0.0</td><td>0.0</td><td>0.0</td><td>0.0</td><td>0.0</td><td>0.0</td><td>0.0</td><td>0.0</td><td>0.0</td><td>0.0</td><td>0.0</td></tr><tr><th>14</th><td>7</td><td>11</td><td>0.08</td><td>0.3</td><td>0.06</td><td>40.0</td><td>40.0</td><td>40.0</td><td>1.0</td><td>0.0</td><td>true</td><td>0.0</td><td>0.0</td><td>0.0</td><td>0.0</td><td>0.0</td><td>0.0</td><td>0.0</td><td>0.0</td><td>0.0</td><td>0.0</td><td>0.0</td><td>0.0</td></tr><tr><th>15</th><td>8</td><td>9</td><td>0.05</td><td>0.25</td><td>0.06</td><td>40.0</td><td>40.0</td><td>40.0</td><td>1.0</td><td>0.0</td><td>true</td><td>0.0</td><td>0.0</td><td>0.0</td><td>0.0</td><td>0.0</td><td>0.0</td><td>0.0</td><td>0.0</td><td>0.0</td><td>0.0</td><td>0.0</td><td>0.0</td></tr><tr><th>16</th><td>8</td><td>10</td><td>0.05</td><td>0.1</td><td>0.02</td><td>60.0</td><td>60.0</td><td>60.0</td><td>1.0</td><td>0.0</td><td>true</td><td>0.0</td><td>0.0</td><td>0.0</td><td>0.0</td><td>0.0</td><td>0.0</td><td>0.0</td><td>0.0</td><td>0.0</td><td>0.0</td><td>0.0</td><td>0.0</td></tr><tr><th>17</th><td>8</td><td>11</td><td>0.1</td><td>0.3</td><td>0.04</td><td>30.0</td><td>30.0</td><td>30.0</td><td>1.0</td><td>0.0</td><td>true</td><td>0.0</td><td>0.0</td><td>0.0</td><td>0.0</td><td>0.0</td><td>0.0</td><td>0.0</td><td>0.0</td><td>0.0</td><td>0.0</td><td>0.0</td><td>0.0</td></tr><tr><th>18</th><td>8</td><td>12</td><td>0.07</td><td>0.2</td><td>0.05</td><td>90.0</td><td>90.0</td><td>90.0</td><td>1.0</td><td>0.0</td><td>true</td><td>0.0</td><td>0.0</td><td>0.0</td><td>0.0</td><td>0.0</td><td>0.0</td><td>0.0</td><td>0.0</td><td>0.0</td><td>0.0</td><td>0.0</td><td>0.0</td></tr><tr><th>19</th><td>9</td><td>11</td><td>0.12</td><td>0.26</td><td>0.05</td><td>70.0</td><td>70.0</td><td>70.0</td><td>1.0</td><td>0.0</td><td>true</td><td>0.0</td><td>0.0</td><td>0.0</td><td>0.0</td><td>0.0</td><td>0.0</td><td>0.0</td><td>0.0</td><td>0.0</td><td>0.0</td><td>0.0</td><td>0.0</td></tr><tr><th>20</th><td>9</td><td>12</td><td>0.02</td><td>0.1</td><td>0.02</td><td>80.0</td><td>80.0</td><td>80.0</td><td>1.0</td><td>0.0</td><td>true</td><td>0.0</td><td>0.0</td><td>0.0</td><td>0.0</td><td>0.0</td><td>0.0</td><td>0.0</td><td>0.0</td><td>0.0</td><td>0.0</td><td>0.0</td><td>0.0</td></tr><tr><th>21</th><td>10</td><td>11</td><td>0.2</td><td>0.4</td><td>0.08</td><td>20.0</td><td>20.0</td><td>20.0</td><td>1.0</td><td>0.0</td><td>true</td><td>0.0</td><td>0.0</td><td>0.0</td><td>0.0</td><td>0.0</td><td>0.0</td><td>0.0</td><td>0.0</td><td>0.0</td><td>0.0</td><td>0.0</td><td>0.0</td></tr><tr><th>22</th><td>11</td><td>12</td><td>0.1</td><td>0.3</td><td>0.06</td><td>40.0</td><td>40.0</td><td>40.0</td><td>1.0</td><td>0.0</td><td>true</td><td>0.0</td><td>0.0</td><td>0.0</td><td>0.0</td><td>0.0</td><td>0.0</td><td>0.0</td><td>0.0</td><td>0.0</td><td>0.0</td><td>0.0</td><td>0.0</td></tr><tr><th>23</th><td>6</td><td>11</td><td>0.2</td><td>0.4</td><td>0.08</td><td>20.0</td><td>20.0</td><td>20.0</td><td>1.0</td><td>0.0</td><td>false</td><td>0.0</td><td>0.0</td><td>0.0</td><td>0.0</td><td>0.0</td><td>0.0</td><td>0.0</td><td>0.0</td><td>0.0</td><td>0.0</td><td>0.0</td><td>0.0</td></tr><tr><th>&vellip;</th><td>&vellip;</td><td>&vellip;</td><td>&vellip;</td><td>&vellip;</td><td>&vellip;</td><td>&vellip;</td><td>&vellip;</td><td>&vellip;</td><td>&vellip;</td><td>&vellip;</td><td>&vellip;</td><td>&vellip;</td><td>&vellip;</td><td>&vellip;</td><td>&vellip;</td><td>&vellip;</td><td>&vellip;</td><td>&vellip;</td><td>&vellip;</td><td>&vellip;</td><td>&vellip;</td><td>&vellip;</td><td>&vellip;</td></tr></table>"
       ],
       "metadata": {},
       "output_type": "pyout",
       "prompt_number": 41,
       "text": [
        "23x23 DataFrame\n",
        "| Row | from | to | R    | X    | B    | rateA | rateB | rateC | tap | shift |\n",
        "|-----|------|----|------|------|------|-------|-------|-------|-----|-------|\n",
        "| 1   | 1    | 2  | 0.1  | 0.2  | 0.04 | 40.0  | 40.0  | 40.0  | 1.0 | 0.0   |\n",
        "| 2   | 1    | 4  | 0.05 | 0.2  | 0.04 | 60.0  | 60.0  | 60.0  | 1.0 | 0.0   |\n",
        "| 3   | 1    | 5  | 0.08 | 0.3  | 0.06 | 40.0  | 40.0  | 40.0  | 1.0 | 0.0   |\n",
        "| 4   | 2    | 3  | 0.05 | 0.25 | 0.06 | 40.0  | 40.0  | 40.0  | 1.0 | 0.0   |\n",
        "| 5   | 2    | 4  | 0.05 | 0.1  | 0.02 | 60.0  | 60.0  | 60.0  | 1.0 | 0.0   |\n",
        "| 6   | 2    | 5  | 0.1  | 0.3  | 0.04 | 30.0  | 30.0  | 30.0  | 1.0 | 0.0   |\n",
        "| 7   | 2    | 6  | 0.07 | 0.2  | 0.05 | 90.0  | 90.0  | 90.0  | 1.0 | 0.0   |\n",
        "| 8   | 3    | 5  | 0.12 | 0.26 | 0.05 | 70.0  | 70.0  | 70.0  | 1.0 | 0.0   |\n",
        "| 9   | 3    | 6  | 0.02 | 0.1  | 0.02 | 80.0  | 80.0  | 80.0  | 1.0 | 0.0   |\n",
        "| 10  | 4    | 5  | 0.2  | 0.4  | 0.08 | 20.0  | 20.0  | 20.0  | 1.0 | 0.0   |\n",
        "| 11  | 5    | 6  | 0.1  | 0.3  | 0.06 | 40.0  | 40.0  | 40.0  | 1.0 | 0.0   |\n",
        "| 12  | 7    | 8  | 0.1  | 0.2  | 0.04 | 40.0  | 40.0  | 40.0  | 1.0 | 0.0   |\n",
        "| 13  | 7    | 10 | 0.05 | 0.2  | 0.04 | 60.0  | 60.0  | 60.0  | 1.0 | 0.0   |\n",
        "| 14  | 7    | 11 | 0.08 | 0.3  | 0.06 | 40.0  | 40.0  | 40.0  | 1.0 | 0.0   |\n",
        "| 15  | 8    | 9  | 0.05 | 0.25 | 0.06 | 40.0  | 40.0  | 40.0  | 1.0 | 0.0   |\n",
        "| 16  | 8    | 10 | 0.05 | 0.1  | 0.02 | 60.0  | 60.0  | 60.0  | 1.0 | 0.0   |\n",
        "| 17  | 8    | 11 | 0.1  | 0.3  | 0.04 | 30.0  | 30.0  | 30.0  | 1.0 | 0.0   |\n",
        "| 18  | 8    | 12 | 0.07 | 0.2  | 0.05 | 90.0  | 90.0  | 90.0  | 1.0 | 0.0   |\n",
        "| 19  | 9    | 11 | 0.12 | 0.26 | 0.05 | 70.0  | 70.0  | 70.0  | 1.0 | 0.0   |\n",
        "| 20  | 9    | 12 | 0.02 | 0.1  | 0.02 | 80.0  | 80.0  | 80.0  | 1.0 | 0.0   |\n",
        "| 21  | 10   | 11 | 0.2  | 0.4  | 0.08 | 20.0  | 20.0  | 20.0  | 1.0 | 0.0   |\n",
        "| 22  | 11   | 12 | 0.1  | 0.3  | 0.06 | 40.0  | 40.0  | 40.0  | 1.0 | 0.0   |\n",
        "| 23  | 6    | 11 | 0.2  | 0.4  | 0.08 | 20.0  | 20.0  | 20.0  | 1.0 | 0.0   |\n",
        "\n",
        "| Row | status | Pf      | Qf       | Pt       | Qt       | muF | muT |\n",
        "|-----|--------|---------|----------|----------|----------|-----|-----|\n",
        "| 1   | true   | 28.6897 | -15.4187 | -27.7847 | 12.8185  | 0.0 | 0.0 |\n",
        "| 2   | true   | 43.5849 | 20.1201  | -42.4974 | -19.9326 | 0.0 | 0.0 |\n",
        "| 3   | true   | 35.6009 | 11.2547  | -34.5273 | -13.4497 | 0.0 | 0.0 |\n",
        "| 4   | true   | 2.93032 | -12.2687 | -2.89001 | 5.72812  | 0.0 | 0.0 |\n",
        "| 5   | true   | 33.0909 | 46.0541  | -31.5858 | -45.1252 | 0.0 | 0.0 |\n",
        "| 6   | true   | 15.5145 | 15.3532  | -15.0166 | -18.0065 | 0.0 | 0.0 |\n",
        "| 7   | true   | 26.2489 | 12.3995  | -25.6656 | -16.0113 | 0.0 | 0.0 |\n",
        "| 8   | true   | 19.1168 | 23.1745  | -18.0232 | -26.095  | 0.0 | 0.0 |\n",
        "| 9   | true   | 43.7732 | 60.7242  | -42.7698 | -57.861  | 0.0 | 0.0 |\n",
        "| 10  | true   | 4.08324 | -4.94213 | -4.04702 | -2.78527 | 0.0 | 0.0 |\n",
        "| 11  | true   | 1.61416 | -9.66345 | -1.56456 | 3.87235  | 0.0 | 0.0 |\n",
        "| 12  | true   | 0.0     | 0.0      | 0.0      | 0.0      | 0.0 | 0.0 |\n",
        "| 13  | true   | 0.0     | 0.0      | 0.0      | 0.0      | 0.0 | 0.0 |\n",
        "| 14  | true   | 0.0     | 0.0      | 0.0      | 0.0      | 0.0 | 0.0 |\n",
        "| 15  | true   | 0.0     | 0.0      | 0.0      | 0.0      | 0.0 | 0.0 |\n",
        "| 16  | true   | 0.0     | 0.0      | 0.0      | 0.0      | 0.0 | 0.0 |\n",
        "| 17  | true   | 0.0     | 0.0      | 0.0      | 0.0      | 0.0 | 0.0 |\n",
        "| 18  | true   | 0.0     | 0.0      | 0.0      | 0.0      | 0.0 | 0.0 |\n",
        "| 19  | true   | 0.0     | 0.0      | 0.0      | 0.0      | 0.0 | 0.0 |\n",
        "| 20  | true   | 0.0     | 0.0      | 0.0      | 0.0      | 0.0 | 0.0 |\n",
        "| 21  | true   | 0.0     | 0.0      | 0.0      | 0.0      | 0.0 | 0.0 |\n",
        "| 22  | true   | 0.0     | 0.0      | 0.0      | 0.0      | 0.0 | 0.0 |\n",
        "| 23  | false  | 0.0     | 0.0      | 0.0      | 0.0      | 0.0 | 0.0 |\n",
        "\n",
        "| Row | ImagF     | ImagT     | switchable | fail_rate | type | contg_st |\n",
        "|-----|-----------|-----------|------------|-----------|------|----------|\n",
        "| 1   | 0.310195  | 0.29142   | 0.0        | 0.0       | 0.0  | 0.0      |\n",
        "| 2   | 0.457189  | 0.474439  | 0.0        | 0.0       | 0.0  | 0.0      |\n",
        "| 3   | 0.355595  | 0.376017  | 0.0        | 0.0       | 0.0  | 0.0      |\n",
        "| 4   | 0.120132  | 0.0599614 | 0.0        | 0.0       | 0.0  | 0.0      |\n",
        "| 5   | 0.540092  | 0.55673   | 0.0        | 0.0       | 0.0  | 0.0      |\n",
        "| 6   | 0.207877  | 0.237927  | 0.0        | 0.0       | 0.0  | 0.0      |\n",
        "| 7   | 0.276478  | 0.301171  | 0.0        | 0.0       | 0.0  | 0.0      |\n",
        "| 8   | 0.280764  | 0.321826  | 0.0        | 0.0       | 0.0  | 0.0      |\n",
        "| 9   | 0.699595  | 0.716355  | 0.0        | 0.0       | 0.0  | 0.0      |\n",
        "| 10  | 0.0647959 | 0.0498541 | 0.0        | 0.0       | 0.0  | 0.0      |\n",
        "| 11  | 0.0994205 | 0.0415807 | 0.0        | 0.0       | 0.0  | 0.0      |\n",
        "| 12  | 0.0       | 0.0       | 0.0        | 0.0       | 0.0  | 0.0      |\n",
        "| 13  | 0.0       | 0.0       | 0.0        | 0.0       | 0.0  | 0.0      |\n",
        "| 14  | 0.0       | 0.0       | 0.0        | 0.0       | 0.0  | 0.0      |\n",
        "| 15  | 0.0       | 0.0       | 0.0        | 0.0       | 0.0  | 0.0      |\n",
        "| 16  | 0.0       | 0.0       | 0.0        | 0.0       | 0.0  | 0.0      |\n",
        "| 17  | 0.0       | 0.0       | 0.0        | 0.0       | 0.0  | 0.0      |\n",
        "| 18  | 0.0       | 0.0       | 0.0        | 0.0       | 0.0  | 0.0      |\n",
        "| 19  | 0.0       | 0.0       | 0.0        | 0.0       | 0.0  | 0.0      |\n",
        "| 20  | 0.0       | 0.0       | 0.0        | 0.0       | 0.0  | 0.0      |\n",
        "| 21  | 0.0       | 0.0       | 0.0        | 0.0       | 0.0  | 0.0      |\n",
        "| 22  | 0.0       | 0.0       | 0.0        | 0.0       | 0.0  | 0.0      |\n",
        "| 23  | 0.0       | 0.0       | 0.0        | 0.0       | 0.0  | 0.0      |"
       ]
      }
     ],
     "prompt_number": 41
    },
    {
     "cell_type": "code",
     "collapsed": false,
     "input": [
      "ps2=Caseps[]"
     ],
     "language": "python",
     "metadata": {},
     "outputs": [
      {
       "metadata": {},
       "output_type": "pyout",
       "prompt_number": 4,
       "text": [
        "0-element Array{Caseps,1}"
       ]
      }
     ],
     "prompt_number": 4
    },
    {
     "cell_type": "code",
     "collapsed": false,
     "input": [
      "typeof(ps1)"
     ],
     "language": "python",
     "metadata": {},
     "outputs": [
      {
       "metadata": {},
       "output_type": "pyout",
       "prompt_number": 6,
       "text": [
        "Caseps (constructor with 1 method)"
       ]
      }
     ],
     "prompt_number": 6
    },
    {
     "cell_type": "code",
     "collapsed": false,
     "input": [
      "ps2.bus = DataFrame(A = [1,2,3])"
     ],
     "language": "python",
     "metadata": {},
     "outputs": [
      {
       "ename": "LoadError",
       "evalue": "type Array has no field bus\nwhile loading In[7], in expression starting on line 1",
       "output_type": "pyerr",
       "traceback": [
        "type Array has no field bus\nwhile loading In[7], in expression starting on line 1",
        ""
       ]
      }
     ],
     "prompt_number": 7
    },
    {
     "cell_type": "code",
     "collapsed": false,
     "input": [
      "DataFrame(A = [1,2,3])"
     ],
     "language": "python",
     "metadata": {},
     "outputs": [
      {
       "html": [
        "<table class=\"data-frame\"><tr><th></th><th>A</th></tr><tr><th>1</th><td>1</td></tr><tr><th>2</th><td>2</td></tr><tr><th>3</th><td>3</td></tr></table>"
       ],
       "metadata": {},
       "output_type": "pyout",
       "prompt_number": 8,
       "text": [
        "3x1 DataFrame\n",
        "| Row | A |\n",
        "|-----|---|\n",
        "| 1   | 1 |\n",
        "| 2   | 2 |\n",
        "| 3   | 3 |"
       ]
      }
     ],
     "prompt_number": 8
    },
    {
     "cell_type": "code",
     "collapsed": false,
     "input": [
      "ps2[1]"
     ],
     "language": "python",
     "metadata": {},
     "outputs": []
    }
   ],
   "metadata": {}
  }
 ]
}