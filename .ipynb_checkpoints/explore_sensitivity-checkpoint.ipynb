{
 "metadata": {
  "language": "Julia",
  "name": "",
  "signature": "sha256:7fc27257740183f8f1b834494f60827ef216d3d510c99b79c71b7ae7841c474c"
 },
 "nbformat": 3,
 "nbformat_minor": 0,
 "worksheets": [
  {
   "cells": [
    {
     "cell_type": "code",
     "collapsed": false,
     "input": [
      "include(\"data/case2_ps.jl\")"
     ],
     "language": "python",
     "metadata": {},
     "outputs": [],
     "prompt_number": 10
    },
    {
     "cell_type": "code",
     "collapsed": false,
     "input": [
      "mismatch, x0, Vmag, pq, ref, Yf, Yt, ix_Vmag, ix_theta = init_mismatch(ps, true, PartFactFlag, true);\n",
      "# find the minimum distance to solvability\n",
      "xm, Jm, beta = find_Sm(mismatch,x0,verbose = verbose);"
     ],
     "language": "python",
     "metadata": {},
     "outputs": [
      {
       "ename": "LoadError",
       "evalue": "init_mismatch not defined\nwhile loading In[1], in expression starting on line 1",
       "output_type": "pyerr",
       "traceback": [
        "init_mismatch not defined\nwhile loading In[1], in expression starting on line 1",
        ""
       ]
      }
     ],
     "prompt_number": 1
    },
    {
     "cell_type": "code",
     "collapsed": false,
     "input": [
      "x, converged = nrsolve(mismatch, x0, verbose=verbose, linesearch=\"exact\")\n",
      "if converged == true\n",
      "    dist = 0\n",
      "    println(\"The initial power flow converged.\")\n",
      "end\n",
      "g(x) = mismatch(x)[1]\n",
      "Jac(x) = mismatch(x, NeedJac=true)[2]\n",
      "S = mismatch(x0)[3]\n",
      "# find the left eigen vector of jacobian\n",
      "w = get_left_eigv(Jac(x))\n",
      "F(x) = 0.5*dot(g(x),g(x))\n",
      "F_new = F(x)\n",
      "if verbose\n",
      "    println(\"F(x): $F_new\")\n",
      "end"
     ],
     "language": "python",
     "metadata": {},
     "outputs": [
      {
       "output_type": "stream",
       "stream": "stdout",
       "text": [
        "Iter   Max(|g|)   |g|_2      max(Jac'*g)      alpha\n"
       ]
      },
      {
       "output_type": "stream",
       "stream": "stdout",
       "text": [
        "   1  5.0000000  5.1961524 60.0000000  1.0287956 \n",
        "   2  1.2380174  1.5388062  5.1011888  0.8075674 \n",
        "   3  0.5452857  0.8969501  2.9454454  0.0237905 \n",
        "   4  0.5357120  0.8863318  2.6221312  0.0003969 \n",
        "   5  0.5355509  0.8861560  2.5813097  0.0000074 \n",
        "   6  0.5355479  0.8861527  2.5757506  0.0000001 \n",
        " Did not find a solution to g(x) = 0.\n",
        "F(x): 0.39263328939273257\n"
       ]
      }
     ],
     "prompt_number": 12
    },
    {
     "cell_type": "code",
     "collapsed": false,
     "input": [],
     "language": "python",
     "metadata": {},
     "outputs": [
      {
       "ename": "LoadError",
       "evalue": "EPS not defined\nwhile loading In[17], in expression starting on line 1",
       "output_type": "pyerr",
       "traceback": [
        "EPS not defined\nwhile loading In[17], in expression starting on line 1",
        ""
       ]
      }
     ],
     "prompt_number": 17
    },
    {
     "cell_type": "code",
     "collapsed": false,
     "input": [
      "S_i = S + sum(g(x).*w)*w\n",
      "# S_i = S_i + [0,-0.05,-0.05]\n",
      "mismatch_new(x;args...) = mismatch(x, Si=vec(S_i);args...)\n",
      "x, converged = nrsolve(mismatch_new, x0, verbose=true, linesearch=\"exact\")\n",
      "w = get_left_eigv(Jac(x))"
     ],
     "language": "python",
     "metadata": {},
     "outputs": [
      {
       "output_type": "stream",
       "stream": "stdout",
       "text": [
        "Iter   Max(|g|)   |g|_2      max(Jac'*g)      alpha\n"
       ]
      },
      {
       "output_type": "stream",
       "stream": "stdout",
       "text": [
        "   1  4.5145889  4.6469775 55.1439236  0.9984969 \n",
        "   2  0.9748206  1.0972682  6.7195411  1.2360430 \n",
        "   3  0.1817355  0.2601904  2.1320033  1.4283021 \n",
        "   4  0.0182154  0.0182389  0.1096506  0.9509246 \n",
        "   5  0.0031271  0.0050359  0.0215530  1.4627641 \n",
        "   6  0.0006896  0.0009954  0.0079930  1.0976920 \n",
        "   7  0.0000548  0.0000589  0.0001310  1.0387569 \n",
        "   8  0.0000098  0.0000140  0.0000891  1.0731624 \n",
        "   9  0.0000001  0.0000001  0.0000009  1.0001782 \n",
        "Solution found.\n",
        "Check this case. The smallest eigen value has a large real/imaginary value.\n"
       ]
      },
      {
       "metadata": {},
       "output_type": "pyout",
       "prompt_number": 20,
       "text": [
        "3x1 Array{Float64,2}:\n",
        "  0.043369\n",
        " -0.64375 \n",
        " -0.764006"
       ]
      }
     ],
     "prompt_number": 20
    },
    {
     "cell_type": "code",
     "collapsed": false,
     "input": [
      "S_i"
     ],
     "language": "python",
     "metadata": {},
     "outputs": [
      {
       "metadata": {},
       "output_type": "pyout",
       "prompt_number": 21,
       "text": [
        "3x1 Array{Float64,2}:\n",
        "  0.999804\n",
        " -4.51459 \n",
        " -0.461823"
       ]
      }
     ],
     "prompt_number": 21
    },
    {
     "cell_type": "code",
     "collapsed": false,
     "input": [
      "w"
     ],
     "language": "python",
     "metadata": {},
     "outputs": [
      {
       "metadata": {},
       "output_type": "pyout",
       "prompt_number": 22,
       "text": [
        "3x1 Array{Float64,2}:\n",
        "  0.043369\n",
        " -0.64375 \n",
        " -0.764006"
       ]
      }
     ],
     "prompt_number": 22
    },
    {
     "cell_type": "code",
     "collapsed": false,
     "input": [
      "mismatch(x, Si=vec(S_i))"
     ],
     "language": "python",
     "metadata": {},
     "outputs": [
      {
       "ename": "LoadError",
       "evalue": "S_i not defined\nwhile loading In[6], in expression starting on line 1",
       "output_type": "pyerr",
       "traceback": [
        "S_i not defined\nwhile loading In[6], in expression starting on line 1",
        ""
       ]
      }
     ],
     "prompt_number": 6
    },
    {
     "cell_type": "code",
     "collapsed": false,
     "input": [
      "include(\"test/test_power_flow.jl\")"
     ],
     "language": "python",
     "metadata": {},
     "outputs": [
      {
       "output_type": "stream",
       "stream": "stdout",
       "text": [
        "Iter   Max(|g|)   |g|_2      max(Jac'*g)      alpha\n"
       ]
      },
      {
       "output_type": "stream",
       "stream": "stdout",
       "text": [
        "   1  2.6060672  5.6902394 38.0788914  1.2639870 \n",
        "   2  1.0858156  1.8875362 11.1092068  0.0416439 \n",
        "   3  1.0559328  1.8485483 10.2743712  0.0000113 \n",
        "   4  1.0559242  1.8485378 10.2882952  0.0000000 \n",
        " Did not find a solution to g(x) = 0.\n",
        "Power flow did not converge.\n"
       ]
      }
     ],
     "prompt_number": 25
    },
    {
     "cell_type": "code",
     "collapsed": false,
     "input": [
      "beta, beta_P, beta_Q, beta_S, beta_C = find_sens_fact(ps, PartFactFlag);\n",
      "println(\"beta: $beta\")\n",
      "println(\"beta_P: $beta_P\")\n",
      "println(\"beta_Q: $beta_Q\")\n",
      "println(\"beta_S: $beta_S\")\n",
      "println(\"beta_C: $beta_C\")"
     ],
     "language": "python",
     "metadata": {},
     "outputs": [
      {
       "output_type": "stream",
       "stream": "stdout",
       "text": [
        "Iter   Max(|g|)   |g|_2      max(Jac'*g)      alpha\n"
       ]
      },
      {
       "output_type": "stream",
       "stream": "stdout",
       "text": [
        "   1  2.6060672  5.6902394 38.0788914  1.2639870 \n",
        "   2  1.0858156  1.8875362 11.1092068  0.0416439 \n",
        "   3  1.0559328  1.8485483 10.2743712  0.0000113 \n",
        "   4  1.0559242  1.8485378 10.2882952  0.0000000 \n",
        " Did not find a solution to g(x) = 0.\n",
        "F(x): 1.7085460118069389\n",
        "F(x): 1.3461874544836498\n",
        "F(x): 1.328848456493857\n",
        "F(x): 1.3256745109147654\n",
        "F(x): 1.3249184339228872\n",
        "F(x): 1.324519917685782\n",
        "F(x): 1.324270004775686\n",
        "F(x): 1.324097413934338\n",
        "F(x): 1.3239763424525652\n",
        "F(x): 1.3238922126511952\n",
        "beta: 1.627201408954156\n",
        "beta_P: [0.0,0.24683290093914648,0.3231719821501524,0.3230459766424679,0.493179392531185,0.3966201577460313]\n",
        "beta_Q: [0.0,0.0,0.0,0.29190042834689833,0.4685461126117775,0.1581135777901253]\n",
        "beta_S: [0.0,0.0,0.0,0.4348327730342698,0.6800426263266466,0.39225598615056123]\n",
        "beta_C: [0.0,0.0,0.0,0.13358783480307213,0.16484913305917645,0.08618672768302113]\n"
       ]
      }
     ],
     "prompt_number": 26
    },
    {
     "cell_type": "code",
     "collapsed": false,
     "input": [
      "beta, beta_P, beta_Q, beta_S, beta_C = find_sens_fact(ps, PartFactFlag);\n",
      "println(\"beta: $beta\")\n",
      "println(\"beta_P: $beta_P\")\n",
      "println(\"beta_Q: $beta_Q\")\n",
      "println(\"beta_S: $beta_S\")\n",
      "println(\"beta_C: $beta_C\")"
     ],
     "language": "python",
     "metadata": {},
     "outputs": [
      {
       "output_type": "stream",
       "stream": "stdout",
       "text": [
        "Iter   Max(|g|)   |g|_2      max(Jac'*g)      alpha\n"
       ]
      },
      {
       "output_type": "stream",
       "stream": "stdout",
       "text": [
        "   1  2.6060672  5.7601435 39.1840681  1.3881504 \n",
        "   2  0.5741320  1.2497550  5.2648682  0.5775904 \n",
        "   3  0.4914309  0.8640684  2.3745631  0.1037927 \n",
        "   4  0.4733733  0.8188004  2.1864305  0.0043405 \n",
        "   5  0.4725995  0.8170240  2.1647319  0.0001468 \n",
        "   6  0.4725735  0.8169641  2.1655102  0.0000050 \n",
        "   7  0.4725726  0.8169620  2.1653058  0.0000002 \n",
        " Did not find a solution to g(x) = 0.\n",
        "F(x): 0.3337134320229509\n",
        "F(x): 0.23387718912911726\n",
        "F(x): 0.23376483402042955"
       ]
      },
      {
       "output_type": "stream",
       "stream": "stdout",
       "text": [
        "\n",
        "F(x): 0.2337523044092939\n",
        "beta: 0.6837430868525017\n",
        "beta_P: [-0.020194078892780173,0.004281479454194048,0.015912564693155537,0.15008067003402925,0.514896890395434,0.12859766634986908]\n",
        "beta_Q: [0.0,0.0,0.0,0.24825198133866966,0.7696495815949099,0.2028564977048156]\n",
        "beta_S: [0.0,0.0,0.0,0.28166371895365233,0.9083115210936277,0.23437348705558594]\n",
        "beta_C: [0.0,0.0,0.0,0.09333389254301586,0.19648678800382585,0.09393178992947876]\n"
       ]
      }
     ],
     "prompt_number": 153
    },
    {
     "cell_type": "code",
     "collapsed": false,
     "input": [
      "PartFactFlag = false\n",
      "mismatch, x0, Vmag, pq, ref, Yf, Yt, ix_Vmag, ix_theta = init_mismatch(ps, true, PartFactFlag, true);\n",
      "# find the minimum distance to solvability\n",
      "xm, Jm, beta = find_Sm(mismatch,x0,verbose = verbose);"
     ],
     "language": "python",
     "metadata": {},
     "outputs": [
      {
       "output_type": "stream",
       "stream": "stdout",
       "text": [
        "Iter   Max(|g|)   |g|_2      max(Jac'*g)      alpha\n"
       ]
      },
      {
       "output_type": "stream",
       "stream": "stdout",
       "text": [
        "   1  2.6060672  5.6902394 38.0788914  1.2639870 \n",
        "   2  1.0858156  1.8875362 11.1092068  0.0416439 \n",
        "   3  1.0559328  1.8485483 10.2743712  0.0000113 \n",
        "   4  1.0559242  1.8485378 10.2882952  0.0000000 \n",
        " Did not find a solution to g(x) = 0.\n",
        "F(x): 1.7085460118069389\n",
        "F(x): 1.3461874550866342\n",
        "F(x): 1.3288484559221159\n",
        "F(x): 1.3256745107967132\n",
        "F(x): 1.324918434249631\n",
        "F(x): 1.324519918133059\n",
        "F(x): 1.3242700050882492\n",
        "F(x): 1.324097414173314\n",
        "F(x): 1.3239763425740434\n",
        "F(x): 1.32389221230497\n"
       ]
      }
     ],
     "prompt_number": 31
    },
    {
     "cell_type": "code",
     "collapsed": false,
     "input": [
      "xm\n",
      "mismatch(xm)[1]"
     ],
     "language": "python",
     "metadata": {},
     "outputs": [
      {
       "metadata": {},
       "output_type": "pyout",
       "prompt_number": 32,
       "text": [
        "8-element Array{Float64,1}:\n",
        " 0.407736\n",
        " 0.530087\n",
        " 0.537951\n",
        " 0.796317\n",
        " 0.648428\n",
        " 0.487342\n",
        " 0.744682\n",
        " 0.25401 "
       ]
      }
     ],
     "prompt_number": 32
    },
    {
     "cell_type": "code",
     "collapsed": false,
     "input": [
      "xm\n",
      "mismatch(xm)[1]"
     ],
     "language": "python",
     "metadata": {},
     "outputs": [
      {
       "metadata": {},
       "output_type": "pyout",
       "prompt_number": 30,
       "text": [
        "9-element Array{Float64,1}:\n",
        " -0.0138144\n",
        "  0.0028896\n",
        "  0.0109183\n",
        "  0.101023 \n",
        "  0.352385 \n",
        "  0.0881282\n",
        "  0.167472 \n",
        "  0.526941 \n",
        "  0.139015 "
       ]
      }
     ],
     "prompt_number": 30
    },
    {
     "cell_type": "code",
     "collapsed": false,
     "input": [
      "PartFactFlag = true"
     ],
     "language": "python",
     "metadata": {},
     "outputs": []
    },
    {
     "cell_type": "code",
     "collapsed": false,
     "input": [
      "psnew = deepcopy(ps)\n",
      "f = -3.597\n",
      "# f = -beta/beta_S[5]\n",
      "\u03d5 = atan(psnew.shunt[2,:Q]/psnew.shunt[2,:P])\n",
      "psnew.shunt[2,:P] = psnew.shunt[2,:P] + f*100*cos(\u03d5)\n",
      "psnew.shunt[2,:Q] = psnew.shunt[2,:Q] + f*100*sin(\u03d5)\n",
      "#psnew.shunt[2,:P] = psnew.shunt[2,:P] + actual_f*100\n",
      "acpf!(psnew)\n",
      "psnew.shunt"
     ],
     "language": "python",
     "metadata": {},
     "outputs": [
      {
       "output_type": "stream",
       "stream": "stdout",
       "text": [
        "Iter   Max(|g|)   |g|_2      max(Jac'*g)      alpha\n"
       ]
      },
      {
       "output_type": "stream",
       "stream": "stdout",
       "text": [
        "   1  2.5874336  4.6084916 45.7092807  1.2634373 \n",
        "   2  0.5312666  0.7997981  6.6381740  1.2230654 \n",
        "   3  0.0656737  0.1146753  0.6216839  1.1914220 \n",
        "   4  0.0119122  0.0220157  0.1875875  1.1835768 \n",
        "   5  0.0017499  0.0032874  0.0147121  1.1377575 \n",
        "   6  0.0003051  0.0005676  0.0050385  1.1270599 \n",
        "   7  0.0000227  0.0000449  0.0001137  1.0128395 \n",
        "   8  0.0000004  0.0000007  0.0000063  1.0002662 \n",
        "Solution found.\n"
       ]
      },
      {
       "html": [
        "<table class=\"data-frame\"><tr><th></th><th>bus</th><th>P</th><th>Q</th><th>fracS</th><th>fracZ</th><th>factor</th><th>type</th><th>value</th><th>fracE</th><th>gamma</th></tr><tr><th>1</th><td>4</td><td>280.0</td><td>280.0</td><td>1.0</td><td>0.0</td><td>1.0</td><td>1.0</td><td>100000.0</td><td>0.0</td><td>0.0</td></tr><tr><th>2</th><td>5</td><td>25.653690807198842</td><td>25.6536908071989</td><td>1.0</td><td>0.0</td><td>1.0</td><td>1.0</td><td>100000.0</td><td>0.0</td><td>0.0</td></tr><tr><th>3</th><td>6</td><td>280.0</td><td>280.0</td><td>1.0</td><td>0.0</td><td>1.0</td><td>1.0</td><td>100000.0</td><td>0.0</td><td>0.0</td></tr></table>"
       ],
       "metadata": {},
       "output_type": "pyout",
       "prompt_number": 24,
       "text": [
        "3x10 DataFrame\n",
        "| Row | bus | P       | Q       | fracS | fracZ | factor | type | value    |\n",
        "|-----|-----|---------|---------|-------|-------|--------|------|----------|\n",
        "| 1   | 4   | 280.0   | 280.0   | 1.0   | 0.0   | 1.0    | 1.0  | 100000.0 |\n",
        "| 2   | 5   | 25.6537 | 25.6537 | 1.0   | 0.0   | 1.0    | 1.0  | 100000.0 |\n",
        "| 3   | 6   | 280.0   | 280.0   | 1.0   | 0.0   | 1.0    | 1.0  | 100000.0 |\n",
        "\n",
        "| Row | fracE | gamma |\n",
        "|-----|-------|-------|\n",
        "| 1   | 0.0   | 0.0   |\n",
        "| 2   | 0.0   | 0.0   |\n",
        "| 3   | 0.0   | 0.0   |"
       ]
      }
     ],
     "prompt_number": 24
    },
    {
     "cell_type": "code",
     "collapsed": false,
     "input": [
      "psnew = deepcopy(ps)\n",
      "#actual_f = -3.597\n",
      "f = -beta/beta_S[5]\n",
      "\u03d5 = atan(psnew.shunt[2,:Q]/psnew.shunt[2,:P])\n",
      "psnew.shunt[2,:P] = psnew.shunt[2,:P] + f*100*cos(\u03d5)\n",
      "psnew.shunt[2,:Q] = psnew.shunt[2,:Q] + f*100*sin(\u03d5)\n",
      "#psnew.shunt[2,:P] = psnew.shunt[2,:P] + actual_f*100\n",
      "acpf!(psnew)"
     ],
     "language": "python",
     "metadata": {},
     "outputs": [
      {
       "output_type": "stream",
       "stream": "stdout",
       "text": [
        "Iter   Max(|g|)   |g|_2      max(Jac'*g)      alpha\n"
       ]
      },
      {
       "output_type": "stream",
       "stream": "stdout",
       "text": [
        "   1  2.5874336  4.6996219 43.1547725  1.3241792 \n",
        "   2  0.5597862  0.9506106  9.8041060  0.9122476 \n",
        "   3  0.3212555  0.4943572  4.4598915  0.0033420 \n",
        "   4  0.3208440  0.4935303  4.5001890  0.0000020 \n",
        "   5  0.3208438  0.4935298  4.5013173  0.0000000 \n",
        " Did not find a solution to g(x) = 0.\n",
        "Power flow did not converge.\n"
       ]
      }
     ],
     "prompt_number": 123
    },
    {
     "cell_type": "code",
     "collapsed": false,
     "input": [
      "beta2, beta_P2, beta_Q2, beta_S2, beta_C2 = find_sens_fact(psnew, PartFactFlag);\n",
      "println(\"beta: $beta2\")\n",
      "println(\"beta_P: $beta_P2\")\n",
      "println(\"beta_Q: $beta_Q2\")\n",
      "println(\"beta_S: $beta_S2\")\n",
      "println(\"beta_C: $beta_C2\")"
     ],
     "language": "python",
     "metadata": {},
     "outputs": [
      {
       "output_type": "stream",
       "stream": "stdout",
       "text": [
        "Iter   Max(|g|)   |g|_2      max(Jac'*g)      alpha\n"
       ]
      },
      {
       "output_type": "stream",
       "stream": "stdout",
       "text": [
        "   1  2.5874336  4.6996219 43.1547725  1.3241792 \n",
        "   2  0.5597862  0.9506106  9.8041060  0.9122476 \n",
        "   3  0.3212555  0.4943572  4.4598915  0.0033420 \n",
        "   4  0.3208440  0.4935303  4.5001890  0.0000020 \n",
        "   5  0.3208438  0.4935298  4.5013173  0.0000000 \n",
        " Did not find a solution to g(x) = 0.\n",
        "F(x): 0.12178581366761834\n",
        "F(x): 0.07761942671998029\n",
        "F(x): 0.07738268083287513\n",
        "F(x): 0.07737276578865505\n",
        "beta: 0.3933770857298505\n",
        "beta_P: [0.0,0.2947584647755664,0.3444948994795507,0.4821772776102471,0.32811174037239754,0.4152406136202367]\n",
        "beta_Q: [0.0,0.0,0.0,0.4706538274172717,0.20367251565376465,0.13735422951959586]\n",
        "beta_S: [0.0,0.0,0.0,0.6737533356904299,0.37602825356434244,0.3907435608328921]\n",
        "beta_C: [0.0,0.0,0.0,0.18104364784139482,0.11863054510843088,0.07498842879360726]\n"
       ]
      }
     ],
     "prompt_number": 125
    },
    {
     "cell_type": "code",
     "collapsed": false,
     "input": [
      "psnew.shunt"
     ],
     "language": "python",
     "metadata": {},
     "outputs": [
      {
       "html": [
        "<table class=\"data-frame\"><tr><th></th><th>bus</th><th>P</th><th>Q</th><th>fracS</th><th>fracZ</th><th>factor</th><th>type</th><th>value</th><th>fracE</th><th>gamma</th></tr><tr><th>1</th><td>4</td><td>280.0</td><td>280.0</td><td>1.0</td><td>0.0</td><td>1.0</td><td>1.0</td><td>100000.0</td><td>0.0</td><td>0.0</td></tr><tr><th>2</th><td>5</td><td>110.80396399580496</td><td>110.80396399580499</td><td>1.0</td><td>0.0</td><td>1.0</td><td>1.0</td><td>100000.0</td><td>0.0</td><td>0.0</td></tr><tr><th>3</th><td>6</td><td>280.0</td><td>280.0</td><td>1.0</td><td>0.0</td><td>1.0</td><td>1.0</td><td>100000.0</td><td>0.0</td><td>0.0</td></tr></table>"
       ],
       "metadata": {},
       "output_type": "pyout",
       "prompt_number": 133,
       "text": [
        "3x10 DataFrame\n",
        "| Row | bus | P       | Q       | fracS | fracZ | factor | type | value    |\n",
        "|-----|-----|---------|---------|-------|-------|--------|------|----------|\n",
        "| 1   | 4   | 280.0   | 280.0   | 1.0   | 0.0   | 1.0    | 1.0  | 100000.0 |\n",
        "| 2   | 5   | 110.804 | 110.804 | 1.0   | 0.0   | 1.0    | 1.0  | 100000.0 |\n",
        "| 3   | 6   | 280.0   | 280.0   | 1.0   | 0.0   | 1.0    | 1.0  | 100000.0 |\n",
        "\n",
        "| Row | fracE | gamma |\n",
        "|-----|-------|-------|\n",
        "| 1   | 0.0   | 0.0   |\n",
        "| 2   | 0.0   | 0.0   |\n",
        "| 3   | 0.0   | 0.0   |"
       ]
      }
     ],
     "prompt_number": 133
    },
    {
     "cell_type": "code",
     "collapsed": false,
     "input": [
      "f2 = -beta2/beta_S2[5]"
     ],
     "language": "python",
     "metadata": {},
     "outputs": [
      {
       "metadata": {},
       "output_type": "pyout",
       "prompt_number": 128,
       "text": [
        "-1.0461370442275542"
       ]
      }
     ],
     "prompt_number": 128
    },
    {
     "cell_type": "code",
     "collapsed": false,
     "input": [
      "psnew2 = deepcopy(psnew)\n",
      "f2 = -1.204\n",
      "psnew2.shunt[2,:P] = psnew.shunt[2,:P] + f2*100*cos(\u03d5)\n",
      "psnew2.shunt[2,:Q] = psnew.shunt[2,:Q] + f2*100*sin(\u03d5)\n",
      "#psnew.shunt[2,:P] = psnew.shunt[2,:P] + actual_f*100\n",
      "acpf!(psnew2)"
     ],
     "language": "python",
     "metadata": {},
     "outputs": [
      {
       "output_type": "stream",
       "stream": "stdout",
       "text": [
        "Iter   Max(|g|)   |g|_2      max(Jac'*g)      alpha\n"
       ]
      },
      {
       "output_type": "stream",
       "stream": "stdout",
       "text": [
        "   1  2.5874336  4.6084804 45.7088422  1.2634542 \n",
        "   2  0.5312585  0.7998067  6.6388588  1.2230913 \n",
        "   3  0.0656857  0.1146947  0.6218171  1.1914704 \n",
        "   4  0.0119190  0.0220404  0.1878271  1.1842667 \n",
        "   5  0.0017633  0.0033098  0.0148648  1.1392477 \n",
        "   6  0.0003190  0.0005890  0.0052353  1.1473344 \n",
        "   7  0.0000265  0.0000538  0.0001464  1.0205154 \n",
        "   8  0.0000008  0.0000014  0.0000119  1.0006668 \n",
        "Solution found.\n"
       ]
      }
     ],
     "prompt_number": 146
    },
    {
     "cell_type": "code",
     "collapsed": false,
     "input": [
      "(-1.046 - (-1.204))*100/1.204"
     ],
     "language": "python",
     "metadata": {},
     "outputs": [
      {
       "metadata": {},
       "output_type": "pyout",
       "prompt_number": 149,
       "text": [
        "13.12292358803986"
       ]
      }
     ],
     "prompt_number": 149
    },
    {
     "cell_type": "code",
     "collapsed": false,
     "input": [
      "(f - actual_f)*100/actual_f"
     ],
     "language": "python",
     "metadata": {},
     "outputs": [
      {
       "metadata": {},
       "output_type": "pyout",
       "prompt_number": 109,
       "text": [
        "-166.52191516171774"
       ]
      }
     ],
     "prompt_number": 109
    },
    {
     "cell_type": "code",
     "collapsed": false,
     "input": [
      "f"
     ],
     "language": "python",
     "metadata": {},
     "outputs": [
      {
       "metadata": {},
       "output_type": "pyout",
       "prompt_number": 110,
       "text": [
        "2.3927932883669873"
       ]
      }
     ],
     "prompt_number": 110
    },
    {
     "cell_type": "code",
     "collapsed": false,
     "input": [
      "actual_f"
     ],
     "language": "python",
     "metadata": {},
     "outputs": [
      {
       "metadata": {},
       "output_type": "pyout",
       "prompt_number": 111,
       "text": [
        "-3.597"
       ]
      }
     ],
     "prompt_number": 111
    },
    {
     "cell_type": "code",
     "collapsed": false,
     "input": [
      "f"
     ],
     "language": "python",
     "metadata": {},
     "outputs": [
      {
       "metadata": {},
       "output_type": "pyout",
       "prompt_number": 116,
       "text": [
        "4.42518314360744e-9"
       ]
      }
     ],
     "prompt_number": 116
    },
    {
     "cell_type": "code",
     "collapsed": false,
     "input": [],
     "language": "python",
     "metadata": {},
     "outputs": []
    }
   ],
   "metadata": {}
  }
 ]
}