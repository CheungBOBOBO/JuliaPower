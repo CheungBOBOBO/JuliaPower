{
 "metadata": {
  "language": "Julia",
  "name": "",
  "signature": "sha256:c68248410aedd96d68a37df8ad58ccc9317ec538984b8a4eb5ee1df0907aae18"
 },
 "nbformat": 3,
 "nbformat_minor": 0,
 "worksheets": [
  {
   "cells": [
    {
     "cell_type": "code",
     "collapsed": false,
     "input": [
      "using DataFrames, HDF5, JLD, Makeps, ACPowerFlow, Optim, ACSIMSEP\n",
      "\n",
      "# user input to the code\n",
      "verbose = true\n",
      "PartFactFlag = false\n",
      "PolarFlag = true\n",
      "ps = load(\"data/case2383wp_ps.jld\")[\"ps\"]\n",
      "# ps = load(\"data/case6ww_ps.jld\")[\"ps\"]\n",
      "# ps = load(\"data/case2_ps.jld\")[\"ps\"]; \n",
      "\n",
      "LoadFactor = 1.\n",
      "ps.shunt[:,:P] = ps.shunt[:,:P] * LoadFactor\n",
      "ps.shunt[:,:Q] = ps.shunt[:,:Q] * LoadFactor\n",
      "\n",
      "@time acpf!(ps, PartFactFlag = PartFactFlag)\n",
      "\n",
      "\n",
      "\n",
      "# br_outage_list = {[3,5]}\n",
      "\n",
      "# for (i,br_outages) in enumerate(br_outage_list)\n",
      "#     psnew = deepcopy(ps)\n",
      "#     psnew.branch[br_outages,:status] = false\n",
      "#     beta, beta_P, beta_Q, beta_S, beta_C = find_sens_fact(psnew, PartFactFlag, verbose = verbose);\n",
      "# end\n",
      "\n",
      "# max_beta_S = maximum(beta_S)\n",
      "# i_max = find(max_beta_S .== beta_S)\n"
     ],
     "language": "python",
     "metadata": {},
     "outputs": [
      {
       "output_type": "stream",
       "stream": "stdout",
       "text": [
        "Iter   Max(|g|)   |g|_2      max(Jac'*g)      alpha\n"
       ]
      },
      {
       "ename": "LoadError",
       "evalue": "dg_dx not defined\nwhile loading In[2], in expression starting on line 56",
       "output_type": "pyerr",
       "traceback": [
        "dg_dx not defined\nwhile loading In[2], in expression starting on line 56",
        "",
        " in mismatch_polar at /Users/prezaei/Dropbox/JuliaPower/ACPowerFlow/src/mismatch_polar.jl:178",
        " in mismatch at /Users/prezaei/Dropbox/JuliaPower/ACPowerFlow/src/acpf.jl:114",
        " in nrsolve at /Users/prezaei/Dropbox/JuliaPower/ACPowerFlow/src/nrsolve.jl:20",
        " in acpf! at /Users/prezaei/Dropbox/JuliaPower/ACPowerFlow/src/acpf.jl:10"
       ]
      }
     ],
     "prompt_number": 2
    },
    {
     "cell_type": "code",
     "collapsed": false,
     "input": [
      "psnew = deepcopy(ps)\n",
      "psnew.branch[br_outages,:status] = 0"
     ],
     "language": "python",
     "metadata": {},
     "outputs": [
      {
       "ename": "LoadError",
       "evalue": "ps not defined\nwhile loading In[1], in expression starting on line 1",
       "output_type": "pyerr",
       "traceback": [
        "ps not defined\nwhile loading In[1], in expression starting on line 1",
        ""
       ]
      }
     ],
     "prompt_number": 1
    },
    {
     "cell_type": "code",
     "collapsed": false,
     "input": [
      "br_outage_list = {[1,2],[5,67,8]}\n",
      "for (i, v) in enumerate(br_outage_list)\n",
      "    println(\"event number $i outages: $v\")\n",
      "    println(typeof(v))\n",
      "end"
     ],
     "language": "python",
     "metadata": {},
     "outputs": [
      {
       "output_type": "stream",
       "stream": "stdout",
       "text": [
        "event number 1 outages: [1,2]\n"
       ]
      },
      {
       "output_type": "stream",
       "stream": "stdout",
       "text": [
        "Array{Int64,1}\n",
        "event number 2 outages: [5,67,8]\n",
        "Array{Int64,1}\n"
       ]
      }
     ],
     "prompt_number": 37
    },
    {
     "cell_type": "code",
     "collapsed": false,
     "input": [
      "psnew.branch[[1,2],:status] = 0"
     ],
     "language": "python",
     "metadata": {},
     "outputs": [
      {
       "metadata": {},
       "output_type": "pyout",
       "prompt_number": 40,
       "text": [
        "0"
       ]
      }
     ],
     "prompt_number": 40
    },
    {
     "cell_type": "code",
     "collapsed": false,
     "input": [
      "find(psnew.branch[:,:status] .== 0)"
     ],
     "language": "python",
     "metadata": {},
     "outputs": [
      {
       "metadata": {},
       "output_type": "pyout",
       "prompt_number": 45,
       "text": [
        "2-element Array{Int64,1}:\n",
        " 1\n",
        " 2"
       ]
      }
     ],
     "prompt_number": 45
    },
    {
     "cell_type": "code",
     "collapsed": false,
     "input": [
      "find(ps.bus[:,:type] .== 3)"
     ],
     "language": "python",
     "metadata": {},
     "outputs": [
      {
       "metadata": {},
       "output_type": "pyout",
       "prompt_number": 49,
       "text": [
        "1-element Array{Int64,1}:\n",
        " 18"
       ]
      }
     ],
     "prompt_number": 49
    },
    {
     "cell_type": "code",
     "collapsed": false,
     "input": [
      "ps.branch"
     ],
     "language": "python",
     "metadata": {},
     "outputs": [
      {
       "html": [
        "<table class=\"data-frame\"><tr><th></th><th>from</th><th>to</th><th>R</th><th>X</th><th>B</th><th>rateA</th><th>rateB</th><th>rateC</th><th>tap</th><th>shift</th><th>status</th><th>Pf</th><th>Qf</th><th>Pt</th><th>Qt</th><th>muF</th><th>muT</th><th>ImagF</th><th>ImagT</th><th>switchable</th><th>fail_rate</th><th>type</th><th>contg_st</th></tr><tr><th>1</th><td>16</td><td>1</td><td>0.00155</td><td>0.01169</td><td>0.0182</td><td>160.0</td><td>160.0</td><td>160.0</td><td>1.0</td><td>0.0</td><td>true</td><td>0.0</td><td>0.0</td><td>0.0</td><td>0.0</td><td>0.0</td><td>0.0</td><td>0.0</td><td>0.0</td><td>0.0</td><td>0.0</td><td>0.0</td><td>1.0</td></tr><tr><th>2</th><td>355</td><td>1</td><td>0.00157</td><td>0.06612</td><td>0.0</td><td>160.0</td><td>160.0</td><td>160.0</td><td>1.0099</td><td>0.0</td><td>true</td><td>0.0</td><td>0.0</td><td>0.0</td><td>0.0</td><td>0.0</td><td>0.0</td><td>0.0</td><td>0.0</td><td>0.0</td><td>0.0</td><td>0.0</td><td>1.0</td></tr><tr><th>3</th><td>17</td><td>2</td><td>0.00155</td><td>0.01169</td><td>0.0182</td><td>160.0</td><td>160.0</td><td>160.0</td><td>1.0</td><td>0.0</td><td>true</td><td>0.0</td><td>0.0</td><td>0.0</td><td>0.0</td><td>0.0</td><td>0.0</td><td>0.0</td><td>0.0</td><td>0.0</td><td>0.0</td><td>0.0</td><td>1.0</td></tr><tr><th>4</th><td>354</td><td>2</td><td>0.00157</td><td>0.06612</td><td>0.0</td><td>160.0</td><td>160.0</td><td>160.0</td><td>1.022</td><td>0.0</td><td>true</td><td>0.0</td><td>0.0</td><td>0.0</td><td>0.0</td><td>0.0</td><td>0.0</td><td>0.0</td><td>0.0</td><td>0.0</td><td>0.0</td><td>0.0</td><td>1.0</td></tr><tr><th>5</th><td>10</td><td>3</td><td>0.01068</td><td>0.07895</td><td>0.1226</td><td>274.0</td><td>274.0</td><td>274.0</td><td>1.0</td><td>0.0</td><td>true</td><td>0.0</td><td>0.0</td><td>0.0</td><td>0.0</td><td>0.0</td><td>0.0</td><td>0.0</td><td>0.0</td><td>0.0</td><td>0.0</td><td>0.0</td><td>1.0</td></tr><tr><th>6</th><td>219</td><td>3</td><td>0.00165</td><td>0.06736</td><td>0.0</td><td>160.0</td><td>160.0</td><td>160.0</td><td>1.027</td><td>0.0</td><td>true</td><td>0.0</td><td>0.0</td><td>0.0</td><td>0.0</td><td>0.0</td><td>0.0</td><td>0.0</td><td>0.0</td><td>0.0</td><td>0.0</td><td>0.0</td><td>1.0</td></tr><tr><th>7</th><td>220</td><td>3</td><td>0.00165</td><td>0.06736</td><td>0.0</td><td>160.0</td><td>160.0</td><td>160.0</td><td>0.9955</td><td>0.0</td><td>true</td><td>0.0</td><td>0.0</td><td>0.0</td><td>0.0</td><td>0.0</td><td>0.0</td><td>0.0</td><td>0.0</td><td>0.0</td><td>0.0</td><td>0.0</td><td>1.0</td></tr><tr><th>8</th><td>7</td><td>4</td><td>0.01674</td><td>0.09711</td><td>0.14423</td><td>377.0</td><td>377.0</td><td>377.0</td><td>1.0</td><td>0.0</td><td>true</td><td>0.0</td><td>0.0</td><td>0.0</td><td>0.0</td><td>0.0</td><td>0.0</td><td>0.0</td><td>0.0</td><td>0.0</td><td>0.0</td><td>0.0</td><td>1.0</td></tr><tr><th>9</th><td>11</td><td>4</td><td>0.00293</td><td>0.01599</td><td>0.02478</td><td>335.0</td><td>335.0</td><td>335.0</td><td>1.0</td><td>0.0</td><td>true</td><td>0.0</td><td>0.0</td><td>0.0</td><td>0.0</td><td>0.0</td><td>0.0</td><td>0.0</td><td>0.0</td><td>0.0</td><td>0.0</td><td>0.0</td><td>1.0</td></tr><tr><th>10</th><td>14</td><td>4</td><td>0.00442</td><td>0.03223</td><td>0.04985</td><td>464.0</td><td>464.0</td><td>464.0</td><td>1.0</td><td>0.0</td><td>true</td><td>0.0</td><td>0.0</td><td>0.0</td><td>0.0</td><td>0.0</td><td>0.0</td><td>0.0</td><td>0.0</td><td>0.0</td><td>0.0</td><td>0.0</td><td>1.0</td></tr><tr><th>11</th><td>16</td><td>4</td><td>0.00888</td><td>0.06665</td><td>0.08896</td><td>377.0</td><td>377.0</td><td>377.0</td><td>1.0</td><td>0.0</td><td>true</td><td>0.0</td><td>0.0</td><td>0.0</td><td>0.0</td><td>0.0</td><td>0.0</td><td>0.0</td><td>0.0</td><td>0.0</td><td>0.0</td><td>0.0</td><td>1.0</td></tr><tr><th>12</th><td>22</td><td>4</td><td>0.00783</td><td>0.043</td><td>0.04962</td><td>350.0</td><td>350.0</td><td>350.0</td><td>1.0</td><td>0.0</td><td>true</td><td>0.0</td><td>0.0</td><td>0.0</td><td>0.0</td><td>0.0</td><td>0.0</td><td>0.0</td><td>0.0</td><td>0.0</td><td>0.0</td><td>0.0</td><td>1.0</td></tr><tr><th>13</th><td>245</td><td>4</td><td>0.00165</td><td>0.06901</td><td>0.0</td><td>160.0</td><td>160.0</td><td>160.0</td><td>1.0594</td><td>0.0</td><td>true</td><td>0.0</td><td>0.0</td><td>0.0</td><td>0.0</td><td>0.0</td><td>0.0</td><td>0.0</td><td>0.0</td><td>0.0</td><td>0.0</td><td>0.0</td><td>1.0</td></tr><tr><th>14</th><td>246</td><td>4</td><td>0.00165</td><td>0.06901</td><td>0.0</td><td>160.0</td><td>160.0</td><td>160.0</td><td>1.0448</td><td>0.0</td><td>true</td><td>0.0</td><td>0.0</td><td>0.0</td><td>0.0</td><td>0.0</td><td>0.0</td><td>0.0</td><td>0.0</td><td>0.0</td><td>0.0</td><td>0.0</td><td>1.0</td></tr><tr><th>15</th><td>5</td><td>6</td><td>0.00064</td><td>0.0305</td><td>0.0</td><td>400.0</td><td>400.0</td><td>400.0</td><td>1.0435</td><td>-0.6</td><td>true</td><td>0.0</td><td>0.0</td><td>0.0</td><td>0.0</td><td>0.0</td><td>0.0</td><td>0.0</td><td>0.0</td><td>0.0</td><td>0.0</td><td>0.0</td><td>1.0</td></tr><tr><th>16</th><td>7</td><td>5</td><td>0.00525</td><td>0.03988</td><td>0.06195</td><td>381.0</td><td>381.0</td><td>381.0</td><td>1.0</td><td>0.0</td><td>true</td><td>0.0</td><td>0.0</td><td>0.0</td><td>0.0</td><td>0.0</td><td>0.0</td><td>0.0</td><td>0.0</td><td>0.0</td><td>0.0</td><td>0.0</td><td>1.0</td></tr><tr><th>17</th><td>10</td><td>5</td><td>0.01459</td><td>0.11219</td><td>0.16553</td><td>381.0</td><td>381.0</td><td>381.0</td><td>1.0</td><td>0.0</td><td>true</td><td>0.0</td><td>0.0</td><td>0.0</td><td>0.0</td><td>0.0</td><td>0.0</td><td>0.0</td><td>0.0</td><td>0.0</td><td>0.0</td><td>0.0</td><td>1.0</td></tr><tr><th>18</th><td>309</td><td>5</td><td>0.00165</td><td>0.0686</td><td>0.0</td><td>160.0</td><td>160.0</td><td>160.0</td><td>1.0646</td><td>0.0</td><td>true</td><td>0.0</td><td>0.0</td><td>0.0</td><td>0.0</td><td>0.0</td><td>0.0</td><td>0.0</td><td>0.0</td><td>0.0</td><td>0.0</td><td>0.0</td><td>1.0</td></tr><tr><th>19</th><td>309</td><td>5</td><td>0.00165</td><td>0.0686</td><td>0.0</td><td>160.0</td><td>160.0</td><td>160.0</td><td>1.0523</td><td>0.0</td><td>true</td><td>0.0</td><td>0.0</td><td>0.0</td><td>0.0</td><td>0.0</td><td>0.0</td><td>0.0</td><td>0.0</td><td>0.0</td><td>0.0</td><td>0.0</td><td>1.0</td></tr><tr><th>20</th><td>6</td><td>8</td><td>0.00112</td><td>0.01329</td><td>0.34125</td><td>1316.0</td><td>1316.0</td><td>1316.0</td><td>1.0</td><td>0.0</td><td>true</td><td>0.0</td><td>0.0</td><td>0.0</td><td>0.0</td><td>0.0</td><td>0.0</td><td>0.0</td><td>0.0</td><td>0.0</td><td>0.0</td><td>0.0</td><td>1.0</td></tr><tr><th>21</th><td>6</td><td>9</td><td>0.00299</td><td>0.03675</td><td>0.9184</td><td>1427.0</td><td>1427.0</td><td>1427.0</td><td>1.0</td><td>0.0</td><td>true</td><td>0.0</td><td>0.0</td><td>0.0</td><td>0.0</td><td>0.0</td><td>0.0</td><td>0.0</td><td>0.0</td><td>0.0</td><td>0.0</td><td>0.0</td><td>1.0</td></tr><tr><th>22</th><td>15</td><td>6</td><td>0.00298</td><td>0.03417</td><td>0.93504</td><td>1427.0</td><td>1427.0</td><td>1427.0</td><td>1.0</td><td>0.0</td><td>true</td><td>0.0</td><td>0.0</td><td>0.0</td><td>0.0</td><td>0.0</td><td>0.0</td><td>0.0</td><td>0.0</td><td>0.0</td><td>0.0</td><td>0.0</td><td>1.0</td></tr><tr><th>23</th><td>31</td><td>6</td><td>0.0015</td><td>0.01506</td><td>0.4032</td><td>1385.0</td><td>1385.0</td><td>1385.0</td><td>1.0</td><td>0.0</td><td>true</td><td>0.0</td><td>0.0</td><td>0.0</td><td>0.0</td><td>0.0</td><td>0.0</td><td>0.0</td><td>0.0</td><td>0.0</td><td>0.0</td><td>0.0</td><td>1.0</td></tr><tr><th>24</th><td>310</td><td>6</td><td>0.0015</td><td>0.06188</td><td>0.0</td><td>250.0</td><td>250.0</td><td>250.0</td><td>1.0613</td><td>0.0</td><td>true</td><td>0.0</td><td>0.0</td><td>0.0</td><td>0.0</td><td>0.0</td><td>0.0</td><td>0.0</td><td>0.0</td><td>0.0</td><td>0.0</td><td>0.0</td><td>1.0</td></tr><tr><th>25</th><td>12</td><td>7</td><td>0.01211</td><td>0.08742</td><td>0.14017</td><td>381.0</td><td>381.0</td><td>381.0</td><td>1.0</td><td>0.0</td><td>true</td><td>0.0</td><td>0.0</td><td>0.0</td><td>0.0</td><td>0.0</td><td>0.0</td><td>0.0</td><td>0.0</td><td>0.0</td><td>0.0</td><td>0.0</td><td>1.0</td></tr><tr><th>26</th><td>13</td><td>7</td><td>0.00205</td><td>0.01326</td><td>0.02243</td><td>335.0</td><td>335.0</td><td>335.0</td><td>1.0</td><td>0.0</td><td>true</td><td>0.0</td><td>0.0</td><td>0.0</td><td>0.0</td><td>0.0</td><td>0.0</td><td>0.0</td><td>0.0</td><td>0.0</td><td>0.0</td><td>0.0</td><td>1.0</td></tr><tr><th>27</th><td>19</td><td>7</td><td>0.0057</td><td>0.0407</td><td>0.06021</td><td>323.0</td><td>323.0</td><td>323.0</td><td>1.0</td><td>0.0</td><td>true</td><td>0.0</td><td>0.0</td><td>0.0</td><td>0.0</td><td>0.0</td><td>0.0</td><td>0.0</td><td>0.0</td><td>0.0</td><td>0.0</td><td>0.0</td><td>1.0</td></tr><tr><th>28</th><td>21</td><td>7</td><td>0.00093</td><td>0.00651</td><td>0.01113</td><td>160.0</td><td>160.0</td><td>160.0</td><td>1.0</td><td>0.0</td><td>true</td><td>0.0</td><td>0.0</td><td>0.0</td><td>0.0</td><td>0.0</td><td>0.0</td><td>0.0</td><td>0.0</td><td>0.0</td><td>0.0</td><td>0.0</td><td>1.0</td></tr><tr><th>29</th><td>29</td><td>7</td><td>0.01269</td><td>0.07498</td><td>0.1302</td><td>362.0</td><td>362.0</td><td>362.0</td><td>1.0</td><td>0.0</td><td>true</td><td>0.0</td><td>0.0</td><td>0.0</td><td>0.0</td><td>0.0</td><td>0.0</td><td>0.0</td><td>0.0</td><td>0.0</td><td>0.0</td><td>0.0</td><td>1.0</td></tr><tr><th>30</th><td>321</td><td>7</td><td>0.00041</td><td>0.03368</td><td>0.0</td><td>250.0</td><td>250.0</td><td>250.0</td><td>1.0323</td><td>0.0</td><td>true</td><td>0.0</td><td>0.0</td><td>0.0</td><td>0.0</td><td>0.0</td><td>0.0</td><td>0.0</td><td>0.0</td><td>0.0</td><td>0.0</td><td>0.0</td><td>1.0</td></tr><tr><th>&vellip;</th><td>&vellip;</td><td>&vellip;</td><td>&vellip;</td><td>&vellip;</td><td>&vellip;</td><td>&vellip;</td><td>&vellip;</td><td>&vellip;</td><td>&vellip;</td><td>&vellip;</td><td>&vellip;</td><td>&vellip;</td><td>&vellip;</td><td>&vellip;</td><td>&vellip;</td><td>&vellip;</td><td>&vellip;</td><td>&vellip;</td><td>&vellip;</td><td>&vellip;</td><td>&vellip;</td><td>&vellip;</td><td>&vellip;</td></tr></table>"
       ],
       "metadata": {},
       "output_type": "pyout",
       "prompt_number": 50,
       "text": [
        "2896x23 DataFrame\n",
        "| Row  | from | to   | R       | X       | B       | rateA | rateB | rateC |\n",
        "|------|------|------|---------|---------|---------|-------|-------|-------|\n",
        "| 1    | 16   | 1    | 0.00155 | 0.01169 | 0.0182  | 160.0 | 160.0 | 160.0 |\n",
        "| 2    | 355  | 1    | 0.00157 | 0.06612 | 0.0     | 160.0 | 160.0 | 160.0 |\n",
        "| 3    | 17   | 2    | 0.00155 | 0.01169 | 0.0182  | 160.0 | 160.0 | 160.0 |\n",
        "| 4    | 354  | 2    | 0.00157 | 0.06612 | 0.0     | 160.0 | 160.0 | 160.0 |\n",
        "| 5    | 10   | 3    | 0.01068 | 0.07895 | 0.1226  | 274.0 | 274.0 | 274.0 |\n",
        "| 6    | 219  | 3    | 0.00165 | 0.06736 | 0.0     | 160.0 | 160.0 | 160.0 |\n",
        "| 7    | 220  | 3    | 0.00165 | 0.06736 | 0.0     | 160.0 | 160.0 | 160.0 |\n",
        "| 8    | 7    | 4    | 0.01674 | 0.09711 | 0.14423 | 377.0 | 377.0 | 377.0 |\n",
        "| 9    | 11   | 4    | 0.00293 | 0.01599 | 0.02478 | 335.0 | 335.0 | 335.0 |\n",
        "| 10   | 14   | 4    | 0.00442 | 0.03223 | 0.04985 | 464.0 | 464.0 | 464.0 |\n",
        "| 11   | 16   | 4    | 0.00888 | 0.06665 | 0.08896 | 377.0 | 377.0 | 377.0 |\n",
        "\u22ee\n",
        "| 2885 | 2358 | 2357 | 0.0     | 0.0001  | 0.0     | 438.0 | 438.0 | 438.0 |\n",
        "| 2886 | 2357 | 2363 | 0.01504 | 0.04132 | 0.00426 | 90.0  | 90.0  | 90.0  |\n",
        "| 2887 | 2357 | 2372 | 0.00496 | 0.00744 | 0.00073 | 114.0 | 114.0 | 114.0 |\n",
        "| 2888 | 2357 | 2372 | 0.00496 | 0.00744 | 0.00073 | 114.0 | 114.0 | 114.0 |\n",
        "| 2889 | 2358 | 2361 | 0.01843 | 0.06    | 0.00615 | 137.0 | 137.0 | 137.0 |\n",
        "| 2890 | 2363 | 2360 | 0.00934 | 0.01653 | 0.00174 | 90.0  | 90.0  | 90.0  |\n",
        "| 2891 | 2362 | 2361 | 0.0     | 0.0001  | 0.0     | 438.0 | 438.0 | 438.0 |\n",
        "| 2892 | 2364 | 2367 | 0.00026 | 0.00066 | 7.0e-5  | 114.0 | 114.0 | 114.0 |\n",
        "| 2893 | 2373 | 2372 | 0.0     | 0.0001  | 0.0     | 438.0 | 438.0 | 438.0 |\n",
        "| 2894 | 2378 | 2377 | 0.0     | 0.0001  | 0.0     | 438.0 | 438.0 | 438.0 |\n",
        "| 2895 | 2381 | 2380 | 0.0     | 0.0001  | 0.0     | 438.0 | 438.0 | 438.0 |\n",
        "| 2896 | 2382 | 2381 | 0.01264 | 0.03802 | 0.00273 | 114.0 | 114.0 | 114.0 |\n",
        "\n",
        "| Row  | tap    | shift | status | Pf  | Qf  | Pt  | Qt  | muF | muT | ImagF |\n",
        "|------|--------|-------|--------|-----|-----|-----|-----|-----|-----|-------|\n",
        "| 1    | 1.0    | 0.0   | true   | 0.0 | 0.0 | 0.0 | 0.0 | 0.0 | 0.0 | 0.0   |\n",
        "| 2    | 1.0099 | 0.0   | true   | 0.0 | 0.0 | 0.0 | 0.0 | 0.0 | 0.0 | 0.0   |\n",
        "| 3    | 1.0    | 0.0   | true   | 0.0 | 0.0 | 0.0 | 0.0 | 0.0 | 0.0 | 0.0   |\n",
        "| 4    | 1.022  | 0.0   | true   | 0.0 | 0.0 | 0.0 | 0.0 | 0.0 | 0.0 | 0.0   |\n",
        "| 5    | 1.0    | 0.0   | true   | 0.0 | 0.0 | 0.0 | 0.0 | 0.0 | 0.0 | 0.0   |\n",
        "| 6    | 1.027  | 0.0   | true   | 0.0 | 0.0 | 0.0 | 0.0 | 0.0 | 0.0 | 0.0   |\n",
        "| 7    | 0.9955 | 0.0   | true   | 0.0 | 0.0 | 0.0 | 0.0 | 0.0 | 0.0 | 0.0   |\n",
        "| 8    | 1.0    | 0.0   | true   | 0.0 | 0.0 | 0.0 | 0.0 | 0.0 | 0.0 | 0.0   |\n",
        "| 9    | 1.0    | 0.0   | true   | 0.0 | 0.0 | 0.0 | 0.0 | 0.0 | 0.0 | 0.0   |\n",
        "| 10   | 1.0    | 0.0   | true   | 0.0 | 0.0 | 0.0 | 0.0 | 0.0 | 0.0 | 0.0   |\n",
        "| 11   | 1.0    | 0.0   | true   | 0.0 | 0.0 | 0.0 | 0.0 | 0.0 | 0.0 | 0.0   |\n",
        "\u22ee\n",
        "| 2885 | 1.0    | 0.0   | true   | 0.0 | 0.0 | 0.0 | 0.0 | 0.0 | 0.0 | 0.0   |\n",
        "| 2886 | 1.0    | 0.0   | true   | 0.0 | 0.0 | 0.0 | 0.0 | 0.0 | 0.0 | 0.0   |\n",
        "| 2887 | 1.0    | 0.0   | true   | 0.0 | 0.0 | 0.0 | 0.0 | 0.0 | 0.0 | 0.0   |\n",
        "| 2888 | 1.0    | 0.0   | true   | 0.0 | 0.0 | 0.0 | 0.0 | 0.0 | 0.0 | 0.0   |\n",
        "| 2889 | 1.0    | 0.0   | true   | 0.0 | 0.0 | 0.0 | 0.0 | 0.0 | 0.0 | 0.0   |\n",
        "| 2890 | 1.0    | 0.0   | true   | 0.0 | 0.0 | 0.0 | 0.0 | 0.0 | 0.0 | 0.0   |\n",
        "| 2891 | 1.0    | 0.0   | true   | 0.0 | 0.0 | 0.0 | 0.0 | 0.0 | 0.0 | 0.0   |\n",
        "| 2892 | 1.0    | 0.0   | true   | 0.0 | 0.0 | 0.0 | 0.0 | 0.0 | 0.0 | 0.0   |\n",
        "| 2893 | 1.0    | 0.0   | true   | 0.0 | 0.0 | 0.0 | 0.0 | 0.0 | 0.0 | 0.0   |\n",
        "| 2894 | 1.0    | 0.0   | true   | 0.0 | 0.0 | 0.0 | 0.0 | 0.0 | 0.0 | 0.0   |\n",
        "| 2895 | 1.0    | 0.0   | true   | 0.0 | 0.0 | 0.0 | 0.0 | 0.0 | 0.0 | 0.0   |\n",
        "| 2896 | 1.0    | 0.0   | true   | 0.0 | 0.0 | 0.0 | 0.0 | 0.0 | 0.0 | 0.0   |\n",
        "\n",
        "| Row  | ImagT | switchable | fail_rate | type | contg_st |\n",
        "|------|-------|------------|-----------|------|----------|\n",
        "| 1    | 0.0   | 0.0        | 0.0       | 0.0  | 1.0      |\n",
        "| 2    | 0.0   | 0.0        | 0.0       | 0.0  | 1.0      |\n",
        "| 3    | 0.0   | 0.0        | 0.0       | 0.0  | 1.0      |\n",
        "| 4    | 0.0   | 0.0        | 0.0       | 0.0  | 1.0      |\n",
        "| 5    | 0.0   | 0.0        | 0.0       | 0.0  | 1.0      |\n",
        "| 6    | 0.0   | 0.0        | 0.0       | 0.0  | 1.0      |\n",
        "| 7    | 0.0   | 0.0        | 0.0       | 0.0  | 1.0      |\n",
        "| 8    | 0.0   | 0.0        | 0.0       | 0.0  | 1.0      |\n",
        "| 9    | 0.0   | 0.0        | 0.0       | 0.0  | 1.0      |\n",
        "| 10   | 0.0   | 0.0        | 0.0       | 0.0  | 1.0      |\n",
        "| 11   | 0.0   | 0.0        | 0.0       | 0.0  | 1.0      |\n",
        "\u22ee\n",
        "| 2885 | 0.0   | 0.0        | 0.0       | 0.0  | 1.0      |\n",
        "| 2886 | 0.0   | 0.0        | 0.0       | 0.0  | 1.0      |\n",
        "| 2887 | 0.0   | 0.0        | 0.0       | 0.0  | 1.0      |\n",
        "| 2888 | 0.0   | 0.0        | 0.0       | 0.0  | 1.0      |\n",
        "| 2889 | 0.0   | 0.0        | 0.0       | 0.0  | 1.0      |\n",
        "| 2890 | 0.0   | 0.0        | 0.0       | 0.0  | 1.0      |\n",
        "| 2891 | 0.0   | 0.0        | 0.0       | 0.0  | 1.0      |\n",
        "| 2892 | 0.0   | 0.0        | 0.0       | 0.0  | 0.0      |\n",
        "| 2893 | 0.0   | 0.0        | 0.0       | 0.0  | 0.0      |\n",
        "| 2894 | 0.0   | 0.0        | 0.0       | 0.0  | 1.0      |\n",
        "| 2895 | 0.0   | 0.0        | 0.0       | 0.0  | 1.0      |\n",
        "| 2896 | 0.0   | 0.0        | 0.0       | 0.0  | 0.0      |"
       ]
      }
     ],
     "prompt_number": 50
    },
    {
     "cell_type": "code",
     "collapsed": false,
     "input": [
      "a = speye(2)"
     ],
     "language": "python",
     "metadata": {},
     "outputs": [
      {
       "metadata": {},
       "output_type": "pyout",
       "prompt_number": 57,
       "text": [
        "2x2 sparse matrix with 2 Float64 entries:\n",
        "\t[1, 1]  =  1.0\n",
        "\t[2, 2]  =  1.0"
       ]
      }
     ],
     "prompt_number": 57
    },
    {
     "cell_type": "code",
     "collapsed": false,
     "input": [
      "b = full(a)"
     ],
     "language": "python",
     "metadata": {},
     "outputs": [
      {
       "metadata": {},
       "output_type": "pyout",
       "prompt_number": 59,
       "text": [
        "2x2 Array{Float64,2}:\n",
        " 1.0  0.0\n",
        " 0.0  1.0"
       ]
      }
     ],
     "prompt_number": 59
    },
    {
     "cell_type": "code",
     "collapsed": false,
     "input": [
      "b = sparse(b)"
     ],
     "language": "python",
     "metadata": {},
     "outputs": [
      {
       "metadata": {},
       "output_type": "pyout",
       "prompt_number": 61,
       "text": [
        "2x2 sparse matrix with 2 Float64 entries:\n",
        "\t[1, 1]  =  1.0\n",
        "\t[2, 2]  =  1.0"
       ]
      }
     ],
     "prompt_number": 61
    },
    {
     "cell_type": "code",
     "collapsed": false,
     "input": [
      "b = sparse(a)"
     ],
     "language": "python",
     "metadata": {},
     "outputs": [
      {
       "metadata": {},
       "output_type": "pyout",
       "prompt_number": 62,
       "text": [
        "2x2 sparse matrix with 2 Float64 entries:\n",
        "\t[1, 1]  =  1.0\n",
        "\t[2, 2]  =  1.0"
       ]
      }
     ],
     "prompt_number": 62
    },
    {
     "cell_type": "code",
     "collapsed": false,
     "input": [
      "function test_speed()\n",
      "    aa = Vector{Int64}\n",
      "    for i = 1:2*10^4\n",
      "        aa = [aa, i]\n",
      "    end\n",
      "    return aa\n",
      "end"
     ],
     "language": "python",
     "metadata": {},
     "outputs": [
      {
       "metadata": {},
       "output_type": "pyout",
       "prompt_number": 81,
       "text": [
        "test_speed (generic function with 1 method)"
       ]
      }
     ],
     "prompt_number": 81
    },
    {
     "cell_type": "code",
     "collapsed": false,
     "input": [
      "@time bb = test_speed();"
     ],
     "language": "python",
     "metadata": {},
     "outputs": [
      {
       "output_type": "stream",
       "stream": "stdout",
       "text": [
        "elapsed time: 3"
       ]
      },
      {
       "output_type": "stream",
       "stream": "stdout",
       "text": [
        ".916211539 seconds (1636614952 bytes allocated, 66.70% gc time)\n"
       ]
      }
     ],
     "prompt_number": 83
    },
    {
     "cell_type": "code",
     "collapsed": false,
     "input": [
      "c = [c,1]"
     ],
     "language": "python",
     "metadata": {},
     "outputs": [
      {
       "metadata": {},
       "output_type": "pyout",
       "prompt_number": 68,
       "text": [
        "2-element Array{Any,1}:\n",
        "  Array{T,1}\n",
        " 1          "
       ]
      }
     ],
     "prompt_number": 68
    },
    {
     "cell_type": "code",
     "collapsed": false,
     "input": [
      "for i = 1:4\n",
      "    println(typeof(i))\n",
      "end"
     ],
     "language": "python",
     "metadata": {},
     "outputs": [
      {
       "output_type": "stream",
       "stream": "stdout",
       "text": [
        "Int64\n"
       ]
      },
      {
       "output_type": "stream",
       "stream": "stdout",
       "text": [
        "Int64\n",
        "Int64\n",
        "Int64\n"
       ]
      }
     ],
     "prompt_number": 78
    },
    {
     "cell_type": "code",
     "collapsed": false,
     "input": [
      "2*10^4*8"
     ],
     "language": "python",
     "metadata": {},
     "outputs": [
      {
       "metadata": {},
       "output_type": "pyout",
       "prompt_number": 84,
       "text": [
        "160000"
       ]
      }
     ],
     "prompt_number": 84
    },
    {
     "cell_type": "code",
     "collapsed": false,
     "input": [
      "fib(n) = n < 2 ? n : fib(n - 1) + fib(n - 2)\n",
      "@elapsed fib(45)"
     ],
     "language": "python",
     "metadata": {},
     "outputs": [
      {
       "metadata": {},
       "output_type": "pyout",
       "prompt_number": 94,
       "text": [
        "12.42601167"
       ]
      }
     ],
     "prompt_number": 94
    },
    {
     "cell_type": "code",
     "collapsed": false,
     "input": [
      "function gibbs2(n, thin)\n",
      "   x_samp = zeros(n,1)\n",
      "   y_samp = zeros(n,1)\n",
      "   x=0.0\n",
      "   y=0.0\n",
      "   for i=1:n\n",
      "      for j=1:thin\n",
      "         x=(y^2+4)*rand()\n",
      "         y=(1.0/(1+x)+randn())/sqrt(2*x+2)\n",
      "      end\n",
      "      x_samp[i] = x\n",
      "      y_samp[i] = y\n",
      "   end\n",
      "   return x_samp, y_samp\n",
      "end\n"
     ],
     "language": "python",
     "metadata": {},
     "outputs": [
      {
       "metadata": {},
       "output_type": "pyout",
       "prompt_number": 128,
       "text": [
        "gibbs2 (generic function with 1 method)"
       ]
      }
     ],
     "prompt_number": 128
    },
    {
     "cell_type": "code",
     "collapsed": false,
     "input": [
      "@time gibbs2(50000,1000);"
     ],
     "language": "python",
     "metadata": {},
     "outputs": [
      {
       "output_type": "stream",
       "stream": "stdout",
       "text": [
        "elapsed time: 1"
       ]
      },
      {
       "output_type": "stream",
       "stream": "stdout",
       "text": [
        ".78788409 seconds (800208 bytes allocated)\n"
       ]
      }
     ],
     "prompt_number": 131
    },
    {
     "cell_type": "code",
     "collapsed": false,
     "input": [
      "y=0."
     ],
     "language": "python",
     "metadata": {},
     "outputs": [
      {
       "metadata": {},
       "output_type": "pyout",
       "prompt_number": 113,
       "text": [
        "0.0"
       ]
      }
     ],
     "prompt_number": 113
    },
    {
     "cell_type": "code",
     "collapsed": false,
     "input": [
      "x=(y^2+4).*randn(3)"
     ],
     "language": "python",
     "metadata": {},
     "outputs": [
      {
       "metadata": {},
       "output_type": "pyout",
       "prompt_number": 127,
       "text": [
        "3-element Array{Float64,1}:\n",
        " 1.23935  \n",
        " 3.35685  \n",
        " 0.0696399"
       ]
      }
     ],
     "prompt_number": 127
    },
    {
     "cell_type": "code",
     "collapsed": false,
     "input": [
      "z=(1.0./(1+x)+randn())./sqrt(2*x+2)"
     ],
     "language": "python",
     "metadata": {},
     "outputs": [
      {
       "ename": "LoadError",
       "evalue": "DomainError\nwhile loading In[116], in expression starting on line 1",
       "output_type": "pyerr",
       "traceback": [
        "DomainError\nwhile loading In[116], in expression starting on line 1",
        "",
        " in sqrt at operators.jl:359"
       ]
      }
     ],
     "prompt_number": 116
    },
    {
     "cell_type": "code",
     "collapsed": false,
     "input": [
      "(2*x+2)"
     ],
     "language": "python",
     "metadata": {},
     "outputs": [
      {
       "metadata": {},
       "output_type": "pyout",
       "prompt_number": 120,
       "text": [
        "3-element Array{Float64,1}:\n",
        "  4.09619\n",
        "  1.24257\n",
        " -7.64392"
       ]
      }
     ],
     "prompt_number": 120
    },
    {
     "cell_type": "code",
     "collapsed": false,
     "input": [
      "function test_speed(A::SparseMatrixCSC,b::Vector)\n",
      "    x = A\\b\n",
      "    return x\n",
      "end\n"
     ],
     "language": "python",
     "metadata": {},
     "outputs": [
      {
       "metadata": {},
       "output_type": "pyout",
       "prompt_number": 158,
       "text": [
        "test_speed (generic function with 4 methods)"
       ]
      }
     ],
     "prompt_number": 158
    },
    {
     "cell_type": "code",
     "collapsed": false,
     "input": [
      "n = 5000\n",
      "A = rand(n,n) \n",
      "b = rand(n);"
     ],
     "language": "python",
     "metadata": {},
     "outputs": [],
     "prompt_number": 159
    },
    {
     "cell_type": "code",
     "collapsed": false,
     "input": [
      "@time test_speed(A,b);"
     ],
     "language": "python",
     "metadata": {},
     "outputs": [
      {
       "output_type": "stream",
       "stream": "stdout",
       "text": [
        "elapsed time: 11"
       ]
      },
      {
       "output_type": "stream",
       "stream": "stdout",
       "text": [
        ".460007417 seconds (36523680 bytes allocated)\n"
       ]
      }
     ],
     "prompt_number": 179
    },
    {
     "cell_type": "code",
     "collapsed": false,
     "input": [
      "typeof(A)"
     ],
     "language": "python",
     "metadata": {},
     "outputs": [
      {
       "metadata": {},
       "output_type": "pyout",
       "prompt_number": 162,
       "text": [
        "Array{Float64,2}"
       ]
      }
     ],
     "prompt_number": 162
    },
    {
     "cell_type": "code",
     "collapsed": false,
     "input": [
      "typeof(spzeros(2,2))"
     ],
     "language": "python",
     "metadata": {},
     "outputs": [
      {
       "metadata": {},
       "output_type": "pyout",
       "prompt_number": 146,
       "text": [
        "SparseMatrixCSC{Float64,Int64} (constructor with 1 method)"
       ]
      }
     ],
     "prompt_number": 146
    },
    {
     "cell_type": "code",
     "collapsed": false,
     "input": [
      "help(sprand)"
     ],
     "language": "python",
     "metadata": {},
     "outputs": [
      {
       "output_type": "stream",
       "stream": "stderr",
       "text": [
        "INFO: Loading help data...\n"
       ]
      },
      {
       "output_type": "stream",
       "stream": "stdout",
       "text": [
        "Base.sprand(m, n, p[, rng])\n",
        "\n",
        "   Create a random \"m\" by \"n\" sparse matrix, in which the\n",
        "   probability of any element being nonzero is independently given by\n",
        "   \"p\" (and hence the mean density of nonzeros is also exactly\n",
        "   \"p\"). Nonzero values are sampled from the distribution specified\n",
        "   by \"rng\". The uniform distribution is used in case \"rng\" is not\n",
        "   specified.\n"
       ]
      }
     ],
     "prompt_number": 149
    },
    {
     "cell_type": "code",
     "collapsed": false,
     "input": [
      "A = sprand(n,n,1/100);"
     ],
     "language": "python",
     "metadata": {},
     "outputs": [],
     "prompt_number": 176
    },
    {
     "cell_type": "code",
     "collapsed": false,
     "input": [
      "typeof(A) <: SparseMatrixCSC"
     ],
     "language": "python",
     "metadata": {},
     "outputs": [
      {
       "metadata": {},
       "output_type": "pyout",
       "prompt_number": 169,
       "text": [
        "true"
       ]
      }
     ],
     "prompt_number": 169
    },
    {
     "cell_type": "code",
     "collapsed": false,
     "input": [
      "aaa = [1:5]\n",
      "id = [true,true,false,false,true]\n",
      "[1:5][[true,true,false,false,true]]"
     ],
     "language": "python",
     "metadata": {},
     "outputs": [
      {
       "metadata": {},
       "output_type": "pyout",
       "prompt_number": 187,
       "text": [
        "3-element Array{Int64,1}:\n",
        " 1\n",
        " 2\n",
        " 5"
       ]
      }
     ],
     "prompt_number": 187
    },
    {
     "cell_type": "code",
     "collapsed": false,
     "input": [
      "(5-1)+[1:5][[true,true,false,false,true]]"
     ],
     "language": "python",
     "metadata": {},
     "outputs": [
      {
       "metadata": {},
       "output_type": "pyout",
       "prompt_number": 190,
       "text": [
        "3-element Array{Int64,1}:\n",
        " 5\n",
        " 6\n",
        " 9"
       ]
      }
     ],
     "prompt_number": 190
    },
    {
     "cell_type": "code",
     "collapsed": false,
     "input": [],
     "language": "python",
     "metadata": {},
     "outputs": []
    }
   ],
   "metadata": {}
  }
 ]
}