{
 "metadata": {
  "language": "Julia",
  "name": "",
  "signature": "sha256:4408e927a99ff27c14f1ef20cfdd8c8d7a057274db127ddb07ab612897bbeb4d"
 },
 "nbformat": 3,
 "nbformat_minor": 0,
 "worksheets": [
  {
   "cells": [
    {
     "cell_type": "code",
     "collapsed": false,
     "input": [
      "include(\"data/case6ww_ps_2.jl\")"
     ],
     "language": "python",
     "metadata": {},
     "outputs": [],
     "prompt_number": 19
    },
    {
     "cell_type": "code",
     "collapsed": false,
     "input": [
      "reload(\"ACPowerFlow\")"
     ],
     "language": "python",
     "metadata": {},
     "outputs": [
      {
       "output_type": "stream",
       "stream": "stderr",
       "text": [
        "Warning: replacing module ACPowerFlow\n",
        "Warning: Method definition real(SparseMatrixCSC"
       ]
      },
      {
       "output_type": "stream",
       "stream": "stderr",
       "text": [
        "{Tv,Ti<:Integer},) in module ACPowerFlow at /Users/prezaei/Dropbox/JuliaPower/ACPowerFlow/src/ACPowerFlow.jl:16 overwritten in module ACPowerFlow at /Users/prezaei/Dropbox/JuliaPower/ACPowerFlow/src/ACPowerFlow.jl:16.\n",
        "Warning: Method definition imag(SparseMatrixCSC{Tv,Ti<:Integer},) in module ACPowerFlow at /Users/prezaei/Dropbox/JuliaPower/ACPowerFlow/src/ACPowerFlow.jl:17 overwritten in module ACPowerFlow at /Users/prezaei/Dropbox/JuliaPower/ACPowerFlow/src/ACPowerFlow.jl:17.\n"
       ]
      }
     ],
     "prompt_number": 45
    },
    {
     "cell_type": "code",
     "collapsed": false,
     "input": [
      "using DataFrames, HDF5, JLD, Makeps, ACPowerFlow, Optim, ACSIMSEP\n",
      "\n",
      "# user input to the code\n",
      "verbose = true\n",
      "PartFactFlag = false\n",
      "PolarFlag = true\n",
      "# ps = load(\"data/case2383wp_ps.jld\")[\"ps\"]\n",
      "# ps = load(\"data/case6ww_ps.jld\")[\"ps\"]\n",
      "# ps = load(\"data/case2_ps.jld\")[\"ps\"]; \n",
      "ps = load(\"data/case6ww_ps_2.jld\")[\"ps\"]\n",
      "ps.shunt[[4:6],[:P,:Q]] = 210\n",
      "ps.branch[23,:status] = 0\n",
      "\n",
      "LoadFactor = 1.\n",
      "ps.shunt[:,:P] = ps.shunt[:,:P] * LoadFactor\n",
      "ps.shunt[:,:Q] = ps.shunt[:,:Q] * LoadFactor\n",
      "\n",
      "@time ACPowerFlow.acpf!(ps, PartFactFlag = PartFactFlag) "
     ],
     "language": "python",
     "metadata": {},
     "outputs": [
      {
       "output_type": "stream",
       "stream": "stdout",
       "text": [
        "Iter   Max(|g|)   |g|_2      max(Jac'*g)      alpha\n"
       ]
      },
      {
       "output_type": "stream",
       "stream": "stdout",
       "text": [
        "   1  0.5060672  0.9462937 12.6881918  1.0047814 \n",
        "   2  0.0154004  0.0267479  0.1729836  1.0018776 \n",
        "   3  0.0000094  0.0000122  0.0001057  0.9999999 \n",
        "Solution found.\n",
        "Iter   Max(|g|)   |g|_2      max(Jac'*g)      alpha\n",
        "   1  1.9060672  4.0005466 28.4673935  1.3142463 \n",
        "   2  0.4751459  0.7475127  8.5153861  1.3248368 \n",
        "   3  0.1278692  0.2006868  1.5223427  0.0123590 \n",
        "   4  0.1272233  0.1994478  1.4983327  0.0000388 \n",
        "   5  0.1272213  0.1994439  1.4972657  0.0000001 \n",
        " Did not find a solution to g(x) = 0.\n",
        "Power flow did not converge on island 2 of 2.\n",
        "elapsed time: 0.084208126 seconds (5684264 bytes allocated)\n"
       ]
      }
     ],
     "prompt_number": 52
    },
    {
     "cell_type": "code",
     "collapsed": false,
     "input": [],
     "language": "python",
     "metadata": {},
     "outputs": []
    }
   ],
   "metadata": {}
  }
 ]
}